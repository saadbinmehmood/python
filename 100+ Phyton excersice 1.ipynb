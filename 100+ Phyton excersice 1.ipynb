{
 "cells": [
  {
   "cell_type": "code",
   "execution_count": 2,
   "metadata": {},
   "outputs": [
    {
     "name": "stdout",
     "output_type": "stream",
     "text": [
      "Number of iterations: 3\n",
      "proivde farenhiet value: 100\n",
      "proivde farenhiet value: 150\n",
      "proivde farenhiet value: 200\n",
      "[18, 22, 25]\n"
     ]
    }
   ],
   "source": [
    "Deg_1 =[]\n",
    "C = 50\n",
    "H = 30\n",
    "import math\n",
    "num_i = int(input(\"Number of iterations: \"))\n",
    "for x in range(num_i):\n",
    "    D = int(input(\"proivde farenhiet value: \"))\n",
    "    value_3 = int(math.sqrt(2*C*D/H))\n",
    "    Deg_1.append(value_3)\n",
    "print(Deg_1)"
   ]
  },
  {
   "cell_type": "code",
   "execution_count": null,
   "metadata": {},
   "outputs": [],
   "source": []
  }
 ],
 "metadata": {
  "kernelspec": {
   "display_name": "Python 3",
   "language": "python",
   "name": "python3"
  },
  "language_info": {
   "codemirror_mode": {
    "name": "ipython",
    "version": 3
   },
   "file_extension": ".py",
   "mimetype": "text/x-python",
   "name": "python",
   "nbconvert_exporter": "python",
   "pygments_lexer": "ipython3",
   "version": "3.7.6"
  }
 },
 "nbformat": 4,
 "nbformat_minor": 4
}
