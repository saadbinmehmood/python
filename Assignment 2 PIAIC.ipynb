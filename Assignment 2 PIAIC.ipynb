{
 "cells": [
  {
   "cell_type": "markdown",
   "metadata": {},
   "source": [
    "# Printing even indecies of String"
   ]
  },
  {
   "cell_type": "code",
   "execution_count": null,
   "metadata": {},
   "outputs": [],
   "source": [
    "string_1 = input(\"Enter any string: \")\n",
    "for x in string_1[::2]:\n",
    "    print(x, end=\"\")"
   ]
  },
  {
   "cell_type": "markdown",
   "metadata": {},
   "source": [
    "# Printing String in Reverse order"
   ]
  },
  {
   "cell_type": "code",
   "execution_count": 10,
   "metadata": {},
   "outputs": [
    {
     "name": "stdout",
     "output_type": "stream",
     "text": [
      "Enter any string: hello\n",
      "olleh"
     ]
    }
   ],
   "source": [
    "string_1 = input(\"Enter any string: \")\n",
    "for x in string_1[::-1]:\n",
    "    print(x, end=\"\")"
   ]
  },
  {
   "cell_type": "markdown",
   "metadata": {},
   "source": [
    "# Count and print each alphabet in a string"
   ]
  },
  {
   "cell_type": "code",
   "execution_count": 32,
   "metadata": {},
   "outputs": [
    {
     "name": "stdout",
     "output_type": "stream",
     "text": [
      "Enter any string: saad\n",
      "s 1\n",
      "a 2\n",
      "d 1\n"
     ]
    }
   ],
   "source": [
    "string_1 = input(\"Enter any string: \")\n",
    "string_2 =[]\n",
    "dic_z = {}\n",
    "for x in string_1:\n",
    "    string_2.append(x)\n",
    "for y in string_2:\n",
    "    z = string_2.count(y)\n",
    "    dic_z[y] = z \n",
    "    #print(dic_z)\n",
    "for a,b in dic_z.items():\n",
    "    print(a,b)"
   ]
  },
  {
   "cell_type": "markdown",
   "metadata": {},
   "source": [
    "# User Name and company Name"
   ]
  },
  {
   "cell_type": "code",
   "execution_count": 34,
   "metadata": {},
   "outputs": [
    {
     "name": "stdout",
     "output_type": "stream",
     "text": [
      "Enter the email: saad@gmail.com\n",
      "saad"
     ]
    }
   ],
   "source": [
    "email_add = input(\"Enter the email: \")\n",
    "for x in email_add:\n",
    "    if x != \"@\":\n",
    "        print(x, end=\"\")\n",
    "    elif x == \"@\":\n",
    "        break"
   ]
  },
  {
   "cell_type": "markdown",
   "metadata": {},
   "source": [
    "# Sum of Seqquence"
   ]
  },
  {
   "cell_type": "code",
   "execution_count": 39,
   "metadata": {},
   "outputs": [
    {
     "name": "stdout",
     "output_type": "stream",
     "text": [
      "Enter an positive integer: 5\n",
      "3.55\n"
     ]
    }
   ],
   "source": [
    "seq_add_1 = int(input(\"Enter an positive integer: \"))\n",
    "sum_1 = 0\n",
    "for x in range(1, seq_add_1+1):\n",
    "    sum_1 += x/(x+1)\n",
    "print(round(sum_1,2))"
   ]
  },
  {
   "cell_type": "code",
   "execution_count": null,
   "metadata": {},
   "outputs": [],
   "source": []
  }
 ],
 "metadata": {
  "kernelspec": {
   "display_name": "Python 3",
   "language": "python",
   "name": "python3"
  },
  "language_info": {
   "codemirror_mode": {
    "name": "ipython",
    "version": 3
   },
   "file_extension": ".py",
   "mimetype": "text/x-python",
   "name": "python",
   "nbconvert_exporter": "python",
   "pygments_lexer": "ipython3",
   "version": "3.7.6"
  }
 },
 "nbformat": 4,
 "nbformat_minor": 4
}
