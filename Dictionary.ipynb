{
 "cells": [
  {
   "cell_type": "markdown",
   "metadata": {},
   "source": [
    "# Dictionary"
   ]
  },
  {
   "cell_type": "code",
   "execution_count": 11,
   "metadata": {},
   "outputs": [
    {
     "name": "stdout",
     "output_type": "stream",
     "text": [
      "{1: 'a', 2: 'b', 3: 'c'}\n"
     ]
    }
   ],
   "source": [
    "check ={1:\"a\", 2:\"b\", 3:\"c\"}\n",
    "a = {}\n",
    "for check_1 in check.keys():\n",
    "    a[check_1] = check[check_1]\n",
    "print(a)"
   ]
  },
  {
   "cell_type": "code",
   "execution_count": 16,
   "metadata": {},
   "outputs": [
    {
     "name": "stdout",
     "output_type": "stream",
     "text": [
      "a\n",
      "b\n",
      "c\n"
     ]
    }
   ],
   "source": [
    "check ={1:\"a\", 2:\"b\", 3:\"c\"}\n",
    "#a = {}\n",
    "for check_1 in check.keys():\n",
    "#    a[check_1] = check[check_1]\n",
    "    \n",
    "    print(check[check_1])"
   ]
  },
  {
   "cell_type": "code",
   "execution_count": 23,
   "metadata": {},
   "outputs": [
    {
     "data": {
      "text/plain": [
       "{1: 'a', 2: 'b', 3: 'c', 4: 'd'}"
      ]
     },
     "execution_count": 23,
     "metadata": {},
     "output_type": "execute_result"
    }
   ],
   "source": [
    "check ={1:\"a\", 2:\"b\", 3:\"c\"}\n",
    "#a = {}\n",
    "#for check_1 in check.keys():\n",
    "#    a[check_1] = check[check_1]\n",
    "    \n",
    "# print(check[check_1])\n",
    "#print(check[1])\n",
    "check[4] = \"d\"\n",
    "check"
   ]
  },
  {
   "cell_type": "code",
   "execution_count": 35,
   "metadata": {},
   "outputs": [
    {
     "name": "stdout",
     "output_type": "stream",
     "text": [
      "1 customer a\n",
      "2 customer b\n",
      "3 customer c\n"
     ]
    }
   ],
   "source": [
    "check ={1:\"a\", 2:\"b\", 3:\"c\"}\n",
    "#a = {}\n",
    "for key_1, value_1 in check.items():\n",
    "#    a[check_1] = check[check_1]\n",
    "    \n",
    "# print(check[check_1])\n",
    "    print(key_1, \"customer \" + value_1)\n",
    "#check[4] = \"d\"\n",
    "#check"
   ]
  },
  {
   "cell_type": "code",
   "execution_count": 36,
   "metadata": {},
   "outputs": [
    {
     "data": {
      "text/plain": [
       "{1: 'a', 2: 'b', 3: 'c'}"
      ]
     },
     "execution_count": 36,
     "metadata": {},
     "output_type": "execute_result"
    }
   ],
   "source": [
    "check"
   ]
  },
  {
   "cell_type": "code",
   "execution_count": 37,
   "metadata": {},
   "outputs": [
    {
     "data": {
      "text/plain": [
       "'a'"
      ]
     },
     "execution_count": 37,
     "metadata": {},
     "output_type": "execute_result"
    }
   ],
   "source": [
    "check[1]"
   ]
  },
  {
   "cell_type": "code",
   "execution_count": 43,
   "metadata": {},
   "outputs": [
    {
     "name": "stdout",
     "output_type": "stream",
     "text": [
      "{'a': 1, 'b': 2}\n",
      "1\n"
     ]
    }
   ],
   "source": [
    "check = [\n",
    "    {\n",
    "        \"a\":1, \n",
    "        \"b\":2\n",
    "    },\n",
    "    {\n",
    "        \"c\":3,\n",
    "        \"d\":4\n",
    "    }\n",
    "]\n",
    "customer_1 = check[0]\n",
    "address_1 = customer_1[\"a\"]\n",
    "print(customer_1)\n",
    "print(address_1)\n",
    "#del check[1]\n",
    "#print(check)"
   ]
  },
  {
   "cell_type": "code",
   "execution_count": 44,
   "metadata": {},
   "outputs": [
    {
     "data": {
      "text/plain": [
       "2"
      ]
     },
     "execution_count": 44,
     "metadata": {},
     "output_type": "execute_result"
    }
   ],
   "source": [
    "len(check)"
   ]
  },
  {
   "cell_type": "code",
   "execution_count": 45,
   "metadata": {},
   "outputs": [
    {
     "data": {
      "text/plain": [
       "list"
      ]
     },
     "execution_count": 45,
     "metadata": {},
     "output_type": "execute_result"
    }
   ],
   "source": [
    "type(check)"
   ]
  },
  {
   "cell_type": "code",
   "execution_count": 68,
   "metadata": {},
   "outputs": [
    {
     "name": "stdout",
     "output_type": "stream",
     "text": [
      "<class 'list'>\n",
      "[{'a': 1, 'b': 2}, {'c': 3, 'd': 4}, {'e': 5, 'f': 6}, {'g': 7, 'h': [8, 9, 10]}]\n",
      "[8, 9, 10]\n"
     ]
    }
   ],
   "source": [
    "#print(check)\n",
    "\n",
    "check_2 = {\n",
    "\"e\":5, \n",
    "\"f\":6\n",
    "    }\n",
    "\n",
    "check_3 = {\n",
    "    \"g\": 7,\n",
    "    \"h\": [8, 9, 10]\n",
    "}\n",
    "#print(type(check_3[\"h\"]))\n",
    "#check.append(check_2)\n",
    "#check.append(check_3)\n",
    "#del check[3]\n",
    "#del check[2]\n",
    "print(check)\n",
    "print(check_3[\"h\"])"
   ]
  },
  {
   "cell_type": "code",
   "execution_count": 69,
   "metadata": {},
   "outputs": [
    {
     "data": {
      "text/plain": [
       "[{'a': 1, 'b': 2},\n",
       " {'c': 3, 'd': 4},\n",
       " {'e': 5, 'f': 6},\n",
       " {'g': 7, 'h': [8, 9, 10]}]"
      ]
     },
     "execution_count": 69,
     "metadata": {},
     "output_type": "execute_result"
    }
   ],
   "source": [
    "check"
   ]
  },
  {
   "cell_type": "code",
   "execution_count": 74,
   "metadata": {},
   "outputs": [
    {
     "name": "stdout",
     "output_type": "stream",
     "text": [
      "9\n"
     ]
    }
   ],
   "source": [
    "print(check[3][\"h\"][1])"
   ]
  },
  {
   "cell_type": "code",
   "execution_count": 75,
   "metadata": {},
   "outputs": [
    {
     "data": {
      "text/plain": [
       "5"
      ]
     },
     "execution_count": 75,
     "metadata": {},
     "output_type": "execute_result"
    }
   ],
   "source": [
    "check[2][\"e\"]"
   ]
  },
  {
   "cell_type": "code",
   "execution_count": 77,
   "metadata": {},
   "outputs": [],
   "source": [
    "check_4 = [1, 2, 3, [4,5]]"
   ]
  },
  {
   "cell_type": "code",
   "execution_count": 83,
   "metadata": {},
   "outputs": [
    {
     "name": "stdout",
     "output_type": "stream",
     "text": [
      "4\n"
     ]
    }
   ],
   "source": [
    "print(check_4[3][0])"
   ]
  },
  {
   "cell_type": "code",
   "execution_count": 23,
   "metadata": {},
   "outputs": [
    {
     "name": "stdout",
     "output_type": "stream",
     "text": [
      "[3, 4, 5, 6]\n"
     ]
    }
   ],
   "source": [
    "dic_1 = {\n",
    "    \"A\":{\n",
    "        1:\"a\",\n",
    "        2:\"b\",\n",
    "    },\n",
    "    \"B\":{\n",
    "        3:\"c\",\n",
    "        4:\"d\",\n",
    "    },\n",
    "    \"C\":{\n",
    "        5:\"e\",\n",
    "        6:\"f\",\n",
    "        7: [1,2,3,4,5,6,7,8,9,10],\n",
    "    }\n",
    "}\n",
    "print(dic_1[\"C\"][7][2:6])"
   ]
  },
  {
   "cell_type": "code",
   "execution_count": 24,
   "metadata": {},
   "outputs": [],
   "source": [
    "dic_1[\"C\"][7].append(11)"
   ]
  },
  {
   "cell_type": "code",
   "execution_count": 25,
   "metadata": {},
   "outputs": [
    {
     "name": "stdout",
     "output_type": "stream",
     "text": [
      "{'A': {1: 'a', 2: 'b'}, 'B': {3: 'c', 4: 'd'}, 'C': {5: 'e', 6: 'f', 7: [1, 2, 3, 4, 5, 6, 7, 8, 9, 10, 11]}}\n"
     ]
    }
   ],
   "source": [
    "print(dic_1)"
   ]
  },
  {
   "cell_type": "code",
   "execution_count": 26,
   "metadata": {},
   "outputs": [],
   "source": [
    "dic_1[\"B\"][4.1] =\"d.1\""
   ]
  },
  {
   "cell_type": "code",
   "execution_count": 27,
   "metadata": {},
   "outputs": [
    {
     "name": "stdout",
     "output_type": "stream",
     "text": [
      "{'A': {1: 'a', 2: 'b'}, 'B': {3: 'c', 4: 'd', 4.1: 'd.1'}, 'C': {5: 'e', 6: 'f', 7: [1, 2, 3, 4, 5, 6, 7, 8, 9, 10, 11]}}\n"
     ]
    }
   ],
   "source": [
    "print(dic_1)"
   ]
  },
  {
   "cell_type": "code",
   "execution_count": 56,
   "metadata": {},
   "outputs": [
    {
     "name": "stdout",
     "output_type": "stream",
     "text": [
      "[1, 2, 3, 4, 5, 6, 7, 8, 9, 10]\n",
      "{'A': {1: 'a', 2: 'b'}, 'B': {3: 'c', 4: 'd', 4.1: 'd.1'}, 'C': {5: 'e', 6: 'f', 7: [1, 2, 3, 4, 5, 6, 7, 8, 9, 10]}}\n"
     ]
    }
   ],
   "source": [
    "a_1 = dic_1[\"C\"][7].copy()\n",
    "print(a_1)\n",
    "print(dic_1)"
   ]
  },
  {
   "cell_type": "code",
   "execution_count": 66,
   "metadata": {},
   "outputs": [
    {
     "name": "stdout",
     "output_type": "stream",
     "text": [
      "A {1: 'a', 2: 'b'}\n",
      "B {3: 'c', 4: 'd', 4.1: 'd.1'}\n",
      "C {5: 'e', 6: 'f', 7: [1, 2, 3, 4, 5, 6, 7, 8, 9, 10]}\n"
     ]
    }
   ],
   "source": [
    "for x,y in dic_1.items():\n",
    "    print(x,y)\n"
   ]
  },
  {
   "cell_type": "code",
   "execution_count": 67,
   "metadata": {},
   "outputs": [],
   "source": [
    "list_1 = dic_1[\"C\"][7]"
   ]
  },
  {
   "cell_type": "code",
   "execution_count": 68,
   "metadata": {},
   "outputs": [
    {
     "data": {
      "text/plain": [
       "[1, 2, 3, 4, 5, 6, 7, 8, 9, 10]"
      ]
     },
     "execution_count": 68,
     "metadata": {},
     "output_type": "execute_result"
    }
   ],
   "source": [
    "list_1.extend()"
   ]
  },
  {
   "cell_type": "code",
   "execution_count": 73,
   "metadata": {},
   "outputs": [
    {
     "data": {
      "text/plain": [
       "'e'"
      ]
     },
     "execution_count": 73,
     "metadata": {},
     "output_type": "execute_result"
    }
   ],
   "source": [
    "dic_1[\"C\"].pop(5)"
   ]
  },
  {
   "cell_type": "code",
   "execution_count": 74,
   "metadata": {},
   "outputs": [
    {
     "data": {
      "text/plain": [
       "3"
      ]
     },
     "execution_count": 74,
     "metadata": {},
     "output_type": "execute_result"
    }
   ],
   "source": [
    "i = 250\n",
    "len(str(i))"
   ]
  },
  {
   "cell_type": "code",
   "execution_count": 75,
   "metadata": {},
   "outputs": [],
   "source": [
    "i //= 2"
   ]
  },
  {
   "cell_type": "code",
   "execution_count": 76,
   "metadata": {},
   "outputs": [
    {
     "data": {
      "text/plain": [
       "125"
      ]
     },
     "execution_count": 76,
     "metadata": {},
     "output_type": "execute_result"
    }
   ],
   "source": [
    "i"
   ]
  },
  {
   "cell_type": "code",
   "execution_count": 113,
   "metadata": {},
   "outputs": [
    {
     "name": "stdout",
     "output_type": "stream",
     "text": [
      "Enter an integer: 43\n",
      "43 is a Prime number\n"
     ]
    }
   ],
   "source": [
    "num_4 = int(input(\"Enter an integer: \"))\n",
    "for x in range(2, num_4):\n",
    "    if num_4 % x == 0:\n",
    "        y = \"Not a Prime\"\n",
    "        break\n",
    "    elif num_4 % x != 0:\n",
    "        y = \"a Prime\"\n",
    "print(f\"{num_4} is {y} number\")"
   ]
  },
  {
   "cell_type": "code",
   "execution_count": 111,
   "metadata": {},
   "outputs": [
    {
     "name": "stdout",
     "output_type": "stream",
     "text": [
      "5 Not a Prime 1\n"
     ]
    }
   ],
   "source": [
    "print(x,y,z)"
   ]
  },
  {
   "cell_type": "markdown",
   "metadata": {},
   "source": [
    "# Concatinating Dictionary"
   ]
  },
  {
   "cell_type": "code",
   "execution_count": 12,
   "metadata": {},
   "outputs": [
    {
     "name": "stdout",
     "output_type": "stream",
     "text": [
      "{'a': 1, 'b': 2}\n",
      "{'c': 3, 'd': 4}\n",
      "{'e': 5, 'f': 6}\n"
     ]
    }
   ],
   "source": [
    "dic_1 = {\n",
    "    \"a\":1,\n",
    "    \"b\":2,\n",
    "}\n",
    "dic_2 = {\n",
    "    \"c\":3,\n",
    "    \"d\":4,\n",
    "}\n",
    "dic_3 = {\n",
    "    \"e\":5,\n",
    "    \"f\":6,\n",
    "}\n",
    "print(dic_1)\n",
    "print(dic_2)\n",
    "print(dic_3)\n",
    "#dic_con_1 = {dic_1+dic_2+dic_3}\n",
    "#print(dic_con_1)"
   ]
  },
  {
   "cell_type": "code",
   "execution_count": null,
   "metadata": {},
   "outputs": [],
   "source": []
  },
  {
   "cell_type": "markdown",
   "metadata": {},
   "source": [
    "# Concatenating and Sorting the List"
   ]
  },
  {
   "cell_type": "code",
   "execution_count": 33,
   "metadata": {},
   "outputs": [
    {
     "name": "stdout",
     "output_type": "stream",
     "text": [
      "[2, 1, 4, 3, 6, 4]\n",
      "[8, 9, 11]\n",
      "[2, 1, 4, 3, 6, 4, 8, 9, 11]\n",
      "[1, 2, 3, 4, 4, 6, 8, 9, 11]\n"
     ]
    }
   ],
   "source": [
    "list_1 = [2,1,4,3,6,4,]\n",
    "list_2 = [8,9,11]\n",
    "list_3 =list_1[:]+list_2[:]\n",
    "print(list_1)\n",
    "print(list_2)\n",
    "print(list_3)\n",
    "sort_list_3 = sorted(list_3)\n",
    "print(sort_list_3)"
   ]
  },
  {
   "cell_type": "code",
   "execution_count": 2,
   "metadata": {},
   "outputs": [
    {
     "data": {
      "text/plain": [
       "[2, 1, 4, 3, 6, 4, 8, 9, 11]"
      ]
     },
     "execution_count": 2,
     "metadata": {},
     "output_type": "execute_result"
    }
   ],
   "source": [
    "list_1 = [2,1,4,3,6,4,]\n",
    "list_2 = [8,9,11]\n",
    "list_1.extend(list_2)\n",
    "list_1"
   ]
  },
  {
   "cell_type": "code",
   "execution_count": 36,
   "metadata": {},
   "outputs": [
    {
     "name": "stdout",
     "output_type": "stream",
     "text": [
      "{'a': 1, 'b': 2, 'c': 3, 'd': 4, 'e': 5}\n",
      "{'a': 1, 'b': 2, 'c': 3, 'd': 4, 'e': 5}\n",
      "{'a': 11, 'b': 2, 'c': 3, 'd': 4, 'e': 5}\n",
      "3\n",
      "{'a': 11, 'b': 2, 'd': 4, 'e': 5}\n"
     ]
    }
   ],
   "source": [
    "dic_11 = {\n",
    "    \"a\":1,\n",
    "    \"b\":2,\n",
    "    \"c\":3,\n",
    "    \"d\":4,\n",
    "}\n",
    "dic_11[\"e\"] = 5\n",
    "print(dic_11)\n",
    "#del dic_11[\"e\"]\n",
    "print(dic_11)\n",
    "dic_11[\"a\"] = 11\n",
    "print(dic_11)\n",
    "dic_12= dic_11.update()\n",
    "print(dic_12)\n",
    "print(dic_11)"
   ]
  },
  {
   "cell_type": "code",
   "execution_count": 44,
   "metadata": {},
   "outputs": [
    {
     "name": "stdout",
     "output_type": "stream",
     "text": [
      "1\n",
      "2\n",
      "3\n",
      "4\n",
      "a\n",
      "b\n",
      "c\n",
      "d\n",
      "a 1\n",
      "b 2\n",
      "c 3\n",
      "d 4\n"
     ]
    }
   ],
   "source": [
    "dic_11 = {\n",
    "    \"a\":1,\n",
    "    \"b\":2,\n",
    "    \"c\":3,\n",
    "    \"d\":4,\n",
    "}\n",
    "for x in dic_11.values():\n",
    "    print(x)\n",
    "for y in dic_11.keys():\n",
    "    print(y)\n",
    "for a,b in dic_11.items():\n",
    "    print(a,b)\n"
   ]
  },
  {
   "cell_type": "markdown",
   "metadata": {},
   "source": [
    "# List of Dictionaries"
   ]
  },
  {
   "cell_type": "code",
   "execution_count": 60,
   "metadata": {},
   "outputs": [
    {
     "data": {
      "text/plain": [
       "[{'a': 1, 'b': 2, 'c': 3, 'd': 4},\n",
       " {1: 'a', 2: 'b', 3: 'c', 4: 'd'},\n",
       " {'x': 100, 'y': 200, 'z': 300},\n",
       " {'p': 30, 'q': 40, 'r': 50, 's': 60}]"
      ]
     },
     "execution_count": 60,
     "metadata": {},
     "output_type": "execute_result"
    }
   ],
   "source": [
    "list_dic_1 = [\n",
    "    {    \n",
    "    \"a\":1,\n",
    "    \"b\":2,\n",
    "    \"c\":3,\n",
    "    \"d\":4,  \n",
    "},\n",
    "    {\n",
    "    1:\"a\",\n",
    "    2:\"b\",\n",
    "    3:\"c\",\n",
    "    4:\"d\",\n",
    "},\n",
    "    {\n",
    "    \"x\":100,\n",
    "    \"y\":200,\n",
    "    \"z\":300\n",
    "},\n",
    "]\n",
    "#list_2 = \n",
    "#list_dic_1[0][\"a\"] = 1\n",
    "#print(list_dic_1[0][\"a\"])\n",
    "list_dic_2 = {\n",
    "    \"p\":30,\n",
    "    \"q\":40,\n",
    "    \"r\":50,\n",
    "    \"s\":60,\n",
    "}\n",
    "list_dic_1.append(list_dic_2)\n",
    "list_dic_1\n",
    "#len(list_dic_1)"
   ]
  },
  {
   "cell_type": "code",
   "execution_count": null,
   "metadata": {},
   "outputs": [],
   "source": []
  }
 ],
 "metadata": {
  "kernelspec": {
   "display_name": "Python 3",
   "language": "python",
   "name": "python3"
  },
  "language_info": {
   "codemirror_mode": {
    "name": "ipython",
    "version": 3
   },
   "file_extension": ".py",
   "mimetype": "text/x-python",
   "name": "python",
   "nbconvert_exporter": "python",
   "pygments_lexer": "ipython3",
   "version": "3.7.6"
  }
 },
 "nbformat": 4,
 "nbformat_minor": 4
}
