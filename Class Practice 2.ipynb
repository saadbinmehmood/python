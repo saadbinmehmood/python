{
 "cells": [
  {
   "cell_type": "markdown",
   "metadata": {},
   "source": [
    "# Example 9.1"
   ]
  },
  {
   "cell_type": "code",
   "execution_count": null,
   "metadata": {},
   "outputs": [],
   "source": [
    "class Restu():\n",
    "    def __init__(self, name, cusine):\n",
    "        self.name = name\n",
    "        self.cusine = cusine\n",
    "    def full_name(self):\n",
    "        print(f\"This is {self.name} having {self.cusine} cusine\")\n",
    "    def opne_res(self):\n",
    "        print(f\"{self.name} is open\")"
   ]
  },
  {
   "cell_type": "code",
   "execution_count": null,
   "metadata": {},
   "outputs": [],
   "source": [
    "first_1 = Restu(\"PC\", \"Chinese\")\n",
    "print(first_1.name)\n",
    "print(first_1.cusine)\n",
    "first_1.full_name()\n",
    "first_1.opne_res()"
   ]
  },
  {
   "cell_type": "markdown",
   "metadata": {},
   "source": [
    "# Example 9.2"
   ]
  },
  {
   "cell_type": "code",
   "execution_count": null,
   "metadata": {},
   "outputs": [],
   "source": [
    "first_2 = Restu(\"Holiday inn\", \"Arabian\")\n",
    "first_3 = Restu(\"Ritz\", \"italian\")\n",
    "first_2.full_name()\n",
    "first_3.full_name()"
   ]
  },
  {
   "cell_type": "markdown",
   "metadata": {},
   "source": [
    "# Example 9.3"
   ]
  },
  {
   "cell_type": "code",
   "execution_count": null,
   "metadata": {},
   "outputs": [],
   "source": [
    "class User():\n",
    "    def __init__(self, first_name, last_name, gender, age):\n",
    "        self.first_name = first_name\n",
    "        self.last_name = last_name\n",
    "        self.age = age\n",
    "        self.gender = gender\n",
    "    def describe_user(self):\n",
    "        print(\"%s %s is a %s year old %s\"%(self.first_name, self.last_name, self.age, self.gender))\n",
    "    def greet_user(self):\n",
    "        print(\"Hello {} {}. Welcome to the group\".format(self.first_name, self.last_name))\n",
    "    "
   ]
  },
  {
   "cell_type": "code",
   "execution_count": null,
   "metadata": {},
   "outputs": [],
   "source": [
    "user_1= User(\"Saad\", \"Mahmood\", \"Male\", 43)\n",
    "user_1.describe_user()\n",
    "user_1.greet_user()"
   ]
  },
  {
   "cell_type": "code",
   "execution_count": null,
   "metadata": {},
   "outputs": [],
   "source": [
    "user_2= User(\"Sonia\", \"Saad\", \"Female\", 36)\n",
    "user_2.describe_user()\n",
    "user_2.greet_user()"
   ]
  },
  {
   "cell_type": "markdown",
   "metadata": {},
   "source": [
    "# CAR Example"
   ]
  },
  {
   "cell_type": "code",
   "execution_count": null,
   "metadata": {},
   "outputs": [],
   "source": [
    "class Car():\n",
    "    def __init__(self, make, model, year):\n",
    "        self.make = make\n",
    "        self.model = model\n",
    "        self.year = year\n",
    "    def get_descriptive_name(self):\n",
    "        long_name = f\"{self.year} {self.make} {self.model}\"\n",
    "        return long_name.title()  \n"
   ]
  },
  {
   "cell_type": "code",
   "execution_count": null,
   "metadata": {},
   "outputs": [],
   "source": [
    "my_new_car = Car(\"Mazda\", \"CX9\", 2020)\n",
    "print(my_new_car.get_descriptive_name())"
   ]
  },
  {
   "cell_type": "code",
   "execution_count": 178,
   "metadata": {},
   "outputs": [],
   "source": [
    "class Car():\n",
    "    def __init__(self, make, model, year):\n",
    "        self.make = make\n",
    "        self.model = model\n",
    "        self.year = year\n",
    "        self.odometer = 0\n",
    "    def get_descriptive_name(self):\n",
    "        long_name = f\"{self.year} {self.make} {self.model}\"\n",
    "        return long_name.title()\n",
    "    def read_odometer(self):\n",
    "        print(\"This car has %d miles on it\"%(self.odometer))\n",
    "    def update_odometer(self, update_odometer):\n",
    "        if update_odometer >=self.odometer:\n",
    "            self.odometer = update_odometer\n",
    "        else:\n",
    "            print(\"You can not roll back odometer\")\n",
    "        #print(\"Now my new {} {} {} is having {} miles on it\".format(self.year, self.make, self.model, self.odometer))\n",
    "    def inc_odometer(self, value):\n",
    "        if value < 0:\n",
    "            print(\"you can not roll back the odometer\")\n",
    "        else:\n",
    "            self.odometer += value\n",
    "    def top_speed(self):\n",
    "        print(\"It has a top speed of 200km\")"
   ]
  },
  {
   "cell_type": "code",
   "execution_count": 32,
   "metadata": {},
   "outputs": [
    {
     "name": "stdout",
     "output_type": "stream",
     "text": [
      "2020 Mazda Cx9\n",
      "This car has 0 miles on it\n"
     ]
    }
   ],
   "source": [
    "my_new_car = Car(\"Mazda\", \"CX9\", 2020)\n",
    "print(my_new_car.get_descriptive_name())\n",
    "my_new_car.read_odometer()"
   ]
  },
  {
   "cell_type": "code",
   "execution_count": 33,
   "metadata": {},
   "outputs": [
    {
     "name": "stdout",
     "output_type": "stream",
     "text": [
      "This car has 23 miles on it\n"
     ]
    }
   ],
   "source": [
    "my_new_car.odometer = 23\n",
    "my_new_car.read_odometer()"
   ]
  },
  {
   "cell_type": "code",
   "execution_count": 34,
   "metadata": {},
   "outputs": [
    {
     "name": "stdout",
     "output_type": "stream",
     "text": [
      "This car has 130 miles on it\n"
     ]
    }
   ],
   "source": [
    "my_new_car.update_odometer(130)\n",
    "my_new_car.read_odometer()"
   ]
  },
  {
   "cell_type": "code",
   "execution_count": 38,
   "metadata": {},
   "outputs": [
    {
     "name": "stdout",
     "output_type": "stream",
     "text": [
      "This car has 165 miles on it\n"
     ]
    }
   ],
   "source": [
    "my_new_car.inc_odometer(10)\n",
    "my_new_car.read_odometer()"
   ]
  },
  {
   "cell_type": "markdown",
   "metadata": {},
   "source": [
    "# Example 9.4"
   ]
  },
  {
   "cell_type": "code",
   "execution_count": 209,
   "metadata": {},
   "outputs": [],
   "source": [
    "class Restu():\n",
    "    def __init__(self, name, cusine):\n",
    "        self.name = name\n",
    "        self.cusine = cusine\n",
    "        self.number_served = 0\n",
    "    def full_name(self):\n",
    "        print(f\"This is {self.name} having {self.cusine} cusine\")\n",
    "    def open_res(self):\n",
    "        print(f\"{self.name} is open\")\n",
    "    def set_num_ser(self, num):\n",
    "        self.number_served = num\n",
    "    def inc_num_ser(self, num_inc):\n",
    "        self.number_served +=num_inc\n",
    "\n",
    "        \n",
    "    "
   ]
  },
  {
   "cell_type": "code",
   "execution_count": 210,
   "metadata": {},
   "outputs": [
    {
     "name": "stdout",
     "output_type": "stream",
     "text": [
      "This is PC having Chinese cusine\n"
     ]
    },
    {
     "data": {
      "text/plain": [
       "250"
      ]
     },
     "execution_count": 210,
     "metadata": {},
     "output_type": "execute_result"
    }
   ],
   "source": [
    "rest_1 = Restu(\"PC\", \"Chinese\")\n",
    "rest_1.full_name()\n",
    "rest_1.number_served\n",
    "rest_1.set_num_ser(100)\n",
    "rest_1.number_served\n",
    "rest_1.inc_num_ser(150)\n",
    "rest_1.number_served"
   ]
  },
  {
   "cell_type": "markdown",
   "metadata": {},
   "source": [
    "# Example 9.5"
   ]
  },
  {
   "cell_type": "code",
   "execution_count": 223,
   "metadata": {},
   "outputs": [],
   "source": [
    "class User():\n",
    "    def __init__(self, first_name, last_name, gender, age):\n",
    "        self.first_name = first_name\n",
    "        self.last_name = last_name\n",
    "        self.age = age\n",
    "        self.gender = gender\n",
    "        self.login_att = 0\n",
    "    def describe_user(self):\n",
    "        print(\"%s %s is a %s year old %s\"%(self.first_name, self.last_name, self.age, self.gender))\n",
    "    def greet_user(self):\n",
    "        print(\"Hello {} {}. Welcome to the group\".format(self.first_name, self.last_name))\n",
    "    def inc_login_attempts(self):\n",
    "        self.login_att += 1\n",
    "    def login_attempts(self):\n",
    "        self.login_att = 0"
   ]
  },
  {
   "cell_type": "code",
   "execution_count": 48,
   "metadata": {},
   "outputs": [],
   "source": [
    "user_11 = User(\"Saad\", \"Mahmood\", \"Male\", 43)"
   ]
  },
  {
   "cell_type": "code",
   "execution_count": null,
   "metadata": {},
   "outputs": [],
   "source": []
  },
  {
   "cell_type": "code",
   "execution_count": 55,
   "metadata": {},
   "outputs": [
    {
     "data": {
      "text/plain": [
       "0"
      ]
     },
     "execution_count": 55,
     "metadata": {},
     "output_type": "execute_result"
    }
   ],
   "source": [
    "user_11.login_att\n",
    "user_11.inc_login_attempts()\n",
    "user_11.login_att\n",
    "user_11.inc_login_attempts()\n",
    "user_11.inc_login_attempts()\n",
    "user_11.inc_login_attempts()\n",
    "user_11.login_att\n",
    "user_11.login_attempts()\n",
    "user_11.login_att"
   ]
  },
  {
   "cell_type": "code",
   "execution_count": 206,
   "metadata": {},
   "outputs": [],
   "source": [
    "class Battery():\n",
    "    def __init__(self, battery_size=75):\n",
    "        self.battery_size = battery_size\n",
    "    def desc_battery(self):\n",
    "        print(f\"Size of the batter is {self.battery_size}\")\n",
    "    def get_range(self):\n",
    "        if self.battery_size == 75:\n",
    "            range = 260\n",
    "        elif self.battery_size == 100:\n",
    "            range = 300\n",
    "        print(f\"The range of this car is {range}\")"
   ]
  },
  {
   "cell_type": "markdown",
   "metadata": {},
   "source": [
    "# Child Class Electric Car Example"
   ]
  },
  {
   "cell_type": "code",
   "execution_count": 207,
   "metadata": {},
   "outputs": [],
   "source": [
    "class ElectricCar(Car):\n",
    "    def __init__(self, make, model, year):\n",
    "        super().__init__(make, model, year)\n",
    "        self.battery = Battery()\n",
    "    def top_speed(self):\n",
    "        print(\"It has a top speed of 150km\")\n",
    "\n",
    "    "
   ]
  },
  {
   "cell_type": "code",
   "execution_count": 208,
   "metadata": {},
   "outputs": [
    {
     "name": "stdout",
     "output_type": "stream",
     "text": [
      "0\n",
      "2019 Tesla S150\n",
      "This car has 0 miles on it\n",
      "This car has 50 miles on it\n",
      "Size of the batter is 75\n",
      "Size of the batter is 100\n",
      "The range of this car is 300\n"
     ]
    }
   ],
   "source": [
    "my_tesla = ElectricCar(\"Tesla\", \"S150\", \"2019\")\n",
    "print(my_tesla.odometer)\n",
    "print(my_tesla.get_descriptive_name())\n",
    "my_tesla.read_odometer()\n",
    "my_tesla.update_odometer(50)\n",
    "my_tesla.read_odometer()\n",
    "my_tesla.odometer\n",
    "my_tesla.battery.desc_battery()\n",
    "my_tesla.battery.battery_size = 100\n",
    "my_tesla.battery.desc_battery()\n",
    "my_tesla.battery.get_range()"
   ]
  },
  {
   "cell_type": "code",
   "execution_count": 182,
   "metadata": {},
   "outputs": [],
   "source": [
    "class Bike():\n",
    "    def __init__(self, engine, speed):\n",
    "        self.engine = engine\n",
    "        self.speed = speed\n",
    "    def speed_check(self):\n",
    "        print(f\"This bike has top speed of 200Km\")\n",
    "    def top_speed(self):\n",
    "        print(\"It has a top speed of 250km\")"
   ]
  },
  {
   "cell_type": "code",
   "execution_count": 193,
   "metadata": {},
   "outputs": [],
   "source": [
    "class ElectricBike(ElectricCar, Bike):\n",
    "    def __init__(self, engine, speed, make, model, year, color):\n",
    "        #super().__init__(engine, speed)\n",
    "        #super().__init__( make, model, year, color)\n",
    "        pass\n",
    "    #def top_speed(self):\n",
    "        #print(\"It has a top speed of 200km\")"
   ]
  },
  {
   "cell_type": "code",
   "execution_count": 194,
   "metadata": {},
   "outputs": [
    {
     "name": "stdout",
     "output_type": "stream",
     "text": [
      "It has a top speed of 200km\n"
     ]
    }
   ],
   "source": [
    "bike_1 = ElectricBike(\"Yamaha\", \"FRZ\", \"2020\", \"White\", \"1000CC\", \"320KM\")\n",
    "#bike_1.get_descriptive_name()\n",
    "#bike_1.speed_check()\n",
    "bike_1.top_speed()"
   ]
  },
  {
   "cell_type": "markdown",
   "metadata": {},
   "source": [
    "# Example 9.6"
   ]
  },
  {
   "cell_type": "code",
   "execution_count": 221,
   "metadata": {},
   "outputs": [],
   "source": [
    "class IceCreamStand(Restu):\n",
    "    def __init__(self, name, cusine, *flavours):\n",
    "        self.flavours = flavours\n",
    "        super().__init__(name,cusine)\n",
    "    def check_flav(self):\n",
    "        print(f\"{self.name} IceCream stand is having all the below mentioned flavours\")\n",
    "        for x in self.flavours:\n",
    "            print(\"-\", x)\n",
    "\n"
   ]
  },
  {
   "cell_type": "code",
   "execution_count": 222,
   "metadata": {},
   "outputs": [
    {
     "name": "stdout",
     "output_type": "stream",
     "text": [
      "Softo IceCream stand is having all the below mentioned flavours\n",
      "- Vanilla\n",
      "- Choclate\n",
      "- Praline\n",
      "- Strwaberry\n"
     ]
    }
   ],
   "source": [
    "icecream_1= IceCreamStand(\"Softo\", \"Icecream\", \"Vanilla\", \"Choclate\", \"Praline\", \"Strwaberry\")\n",
    "icecream_1.check_flav()"
   ]
  },
  {
   "cell_type": "markdown",
   "metadata": {},
   "source": [
    "# Example 9.7"
   ]
  },
  {
   "cell_type": "code",
   "execution_count": 232,
   "metadata": {},
   "outputs": [
    {
     "name": "stdout",
     "output_type": "stream",
     "text": [
      " Saad will have following privilidges:\n",
      "- Can Add Posts\n",
      "- Can Delete Posts\n",
      "- Can Ban Users\n"
     ]
    }
   ],
   "source": [
    "class Admin(User):\n",
    "    def __init__(self, first_name, last_name, gender, age, *privilidges):\n",
    "        self.privilidges = privilidges\n",
    "        super().__init__(first_name, last_name, gender, age)\n",
    "\n",
    "user_22 = Admin(\"Saad\", \"Mahmood\", \"Male\", 43, \"Can add posts\", \"can delete posts\", \"can ban users\")\n",
    "user_22.show_privilidges()"
   ]
  },
  {
   "cell_type": "markdown",
   "metadata": {},
   "source": [
    "# Example 9.8"
   ]
  },
  {
   "cell_type": "code",
   "execution_count": 279,
   "metadata": {},
   "outputs": [],
   "source": [
    "class Privilidge():\n",
    "    def __init__(self, first_name, last_name, *privilidges):\n",
    "        self.first_name = first_name\n",
    "        self.last_name = last_name\n",
    "        self.privilidges = privilidges\n",
    "        #super().__init__(first_name, last_name, gender, age)\n",
    "    def show_privilidges(self):\n",
    "        print(f\"{self.first_name.upper()} {self.last_name} will have following privilidges:\")\n",
    "        for x in self.privilidges:\n",
    "            print(\"-\", x.title())"
   ]
  },
  {
   "cell_type": "code",
   "execution_count": 280,
   "metadata": {},
   "outputs": [
    {
     "name": "stdout",
     "output_type": "stream",
     "text": [
      "SAAD Mahmood will have following privilidges:\n",
      "- Can Add Posts\n",
      "- Can Delete Posts\n",
      "- Can Ban Users\n"
     ]
    }
   ],
   "source": [
    "class Admin(User):\n",
    "    def __init__(self, first_name, last_name, gender, age, *privilidges):\n",
    "        self.privilidges = Privilidge(first_name, last_name, *privilidges)\n",
    "        super().__init__(first_name, last_name, gender, age)\n",
    "list_1 = [\"Can add posts\", \"can delete posts\", \"can ban users\"]\n",
    "user_23 = Admin(\"Saad\", \"Mahmood\", \"Male\", 43, *list_1)\n",
    "user_23.privilidges.show_privilidges()"
   ]
  },
  {
   "cell_type": "markdown",
   "metadata": {},
   "source": [
    "# Example 9.9"
   ]
  },
  {
   "cell_type": "code",
   "execution_count": 292,
   "metadata": {},
   "outputs": [],
   "source": [
    "class Battery():\n",
    "    def __init__(self, battery_size=75):\n",
    "        self.battery_size = battery_size\n",
    "    def desc_battery(self):\n",
    "        print(f\"Size of the batter is {self.battery_size}\")\n",
    "    def get_range(self):\n",
    "        if self.battery_size == 75:\n",
    "            range = 260\n",
    "        elif self.battery_size == 100:\n",
    "            range = 300\n",
    "        print(f\"The range of this car is {range}\")\n",
    "    def upgrade_battery(self):\n",
    "        if self.battery_size != 100:\n",
    "            self.battery_size = 100"
   ]
  },
  {
   "cell_type": "code",
   "execution_count": 283,
   "metadata": {},
   "outputs": [],
   "source": [
    "class Car():\n",
    "    def __init__(self, make, model, year):\n",
    "        self.make = make\n",
    "        self.model = model\n",
    "        self.year = year\n",
    "        self.odometer = 0\n",
    "    def get_descriptive_name(self):\n",
    "        long_name = f\"{self.year} {self.make} {self.model}\"\n",
    "        return long_name.title()\n",
    "    def read_odometer(self):\n",
    "        print(\"This car has %d miles on it\"%(self.odometer))\n",
    "    def update_odometer(self, update_odometer):\n",
    "        if update_odometer >=self.odometer:\n",
    "            self.odometer = update_odometer\n",
    "        else:\n",
    "            print(\"You can not roll back odometer\")\n",
    "        #print(\"Now my new {} {} {} is having {} miles on it\".format(self.year, self.make, self.model, self.odometer))\n",
    "    def inc_odometer(self, value):\n",
    "        if value < 0:\n",
    "            print(\"you can not roll back the odometer\")\n",
    "        else:\n",
    "            self.odometer += value\n",
    "    def top_speed(self):\n",
    "        print(\"It has a top speed of 200km\")"
   ]
  },
  {
   "cell_type": "code",
   "execution_count": 293,
   "metadata": {},
   "outputs": [],
   "source": [
    "class ElectricCar(Car):\n",
    "    def __init__(self, make, model, year):\n",
    "        super().__init__(make, model, year)\n",
    "        self.battery = Battery()\n",
    "    def top_speed(self):\n",
    "        print(\"It has a top speed of 150km\")"
   ]
  },
  {
   "cell_type": "code",
   "execution_count": 294,
   "metadata": {},
   "outputs": [
    {
     "name": "stdout",
     "output_type": "stream",
     "text": [
      "The range of this car is 260\n",
      "The range of this car is 300\n"
     ]
    }
   ],
   "source": [
    "my_new_tesla_1 = ElectricCar(\"Telsa\", \"T200\", \"2021\")\n",
    "my_new_tesla_1.battery.get_range()\n",
    "my_new_tesla_1.battery.upgrade_battery()\n",
    "my_new_tesla_1.battery.get_range()"
   ]
  },
  {
   "cell_type": "code",
   "execution_count": 300,
   "metadata": {},
   "outputs": [
    {
     "ename": "SyntaxError",
     "evalue": "invalid syntax (<ipython-input-300-074dbfc819d0>, line 1)",
     "output_type": "error",
     "traceback": [
      "\u001b[1;36m  File \u001b[1;32m\"<ipython-input-300-074dbfc819d0>\"\u001b[1;36m, line \u001b[1;32m1\u001b[0m\n\u001b[1;33m    min = (lambda x, y:x if x<y:)\u001b[0m\n\u001b[1;37m                               ^\u001b[0m\n\u001b[1;31mSyntaxError\u001b[0m\u001b[1;31m:\u001b[0m invalid syntax\n"
     ]
    }
   ],
   "source": []
  },
  {
   "cell_type": "code",
   "execution_count": null,
   "metadata": {},
   "outputs": [],
   "source": []
  }
 ],
 "metadata": {
  "kernelspec": {
   "display_name": "Python 3",
   "language": "python",
   "name": "python3"
  },
  "language_info": {
   "codemirror_mode": {
    "name": "ipython",
    "version": 3
   },
   "file_extension": ".py",
   "mimetype": "text/x-python",
   "name": "python",
   "nbconvert_exporter": "python",
   "pygments_lexer": "ipython3",
   "version": "3.7.6"
  }
 },
 "nbformat": 4,
 "nbformat_minor": 4
}
