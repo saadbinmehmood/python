{
 "cells": [
  {
   "cell_type": "markdown",
   "metadata": {},
   "source": [
    "# Opening and reading CSV file"
   ]
  },
  {
   "cell_type": "code",
   "execution_count": null,
   "metadata": {},
   "outputs": [],
   "source": [
    "import csv\n",
    "with open(\"Res.csv\") as f:\n",
    "    content_res = csv.reader(f)\n",
    "    content_py = []\n",
    "    for x in content_res:\n",
    "        content_py += x\n",
    "#print(content_py)"
   ]
  },
  {
   "cell_type": "markdown",
   "metadata": {},
   "source": [
    "# Reading from CSV File"
   ]
  },
  {
   "cell_type": "code",
   "execution_count": null,
   "metadata": {},
   "outputs": [],
   "source": [
    "import csv\n",
    "with open (\"sample11.csv\") as k:\n",
    "    content_sam = csv.reader(k)\n",
    "    content_read = []\n",
    "    for x in content_sam:\n",
    "        content_read += x\n",
    "    print(\"What information you are lookig for. Enter the number of field which you want to display\")\n",
    "    print(\"\\n1. Site Number \\n2. Site Name \\n3. Region \\n4. District \\n5. Owner \\n6. Next Action \\n7. Case Status\")\n",
    "    input_1 = int(input(\"\\nEnter any number from 1 to 7:\\n\"))\n",
    "    input_2 = (input(\"\\nPlease enter the Node ID: \\n\"))\n",
    "    index_1 = content_read.index(input_2)\n",
    "    if input_1 == 1:\n",
    "        field_1 = \"Site Number\"\n",
    "    if input_1 == 2:\n",
    "        field_1 = \"Site Name\"\n",
    "    if input_1 == 3:\n",
    "        field_1 = \"Region\"\n",
    "    if input_1 == 4:\n",
    "        field_1 = \"District\"\n",
    "    if input_1 == 5:\n",
    "        field_1 = \"Owner\"\n",
    "    if input_1 == 6:\n",
    "        field_1 = \"Next Action\"\n",
    "    if input_1 == 7:\n",
    "        field_1 = \"Case Status\"\n",
    "print(f\"\\n{field_1} of {content_read[index_1]} is \\\"{content_read[index_1+input_1]}\\\"\" )"
   ]
  },
  {
   "cell_type": "markdown",
   "metadata": {},
   "source": [
    "# Reading from CSV file 1st line and ALL content"
   ]
  },
  {
   "cell_type": "code",
   "execution_count": null,
   "metadata": {},
   "outputs": [],
   "source": [
    "import csv\n",
    "with open (\"sample11.csv\") as k:\n",
    "    content_sam = csv.reader(k)\n",
    "    content_read = []\n",
    "    first_line = []\n",
    "    for x in content_sam:\n",
    "        first_line += x\n",
    "        break\n",
    "    for y in content_sam:\n",
    "        content_read += y\n",
    "        \n",
    "    print(\"What information you are lookig for. Enter the number of field which you want to display\")\n",
    "    print(\"\\n1. Site Number \\n2. Site Name \\n3. Region \\n4. District \\n5. Owner \\n6. Next Action \\n7. Case Status\")\n",
    "    input_1 = int(input(\"\\nEnter any number from 1 to 7:\\n\"))\n",
    "    input_2 = (input(\"\\nPlease enter the Node ID: \\n\"))\n",
    "    index_1 = content_read.index(input_2)\n",
    "\n",
    "print(f\"\\n{first_line[input_1]} of {content_read[index_1]} is \\\"{content_read[index_1+input_1]}\\\"\" )"
   ]
  },
  {
   "cell_type": "markdown",
   "metadata": {},
   "source": [
    "# Writing a to CSV file"
   ]
  },
  {
   "cell_type": "code",
   "execution_count": null,
   "metadata": {},
   "outputs": [],
   "source": [
    "with open (\"sample2.csv\", \"w\", newline=\"\") as k:\n",
    "    write_to_sample2 = csv.writer(k, delimiter=\",\")\n",
    "    write_to_sample2.writerow([\"NE ID\", \"Site Number\", \"Site Name\"])\n",
    "    write_to_sample2.writerow([\"MBH4-MW144-1\", \"MW144\", \"GSM144\"])\n",
    "    write_to_sample2.writerow([\"MBH4-133-00-000-1\", \"133-00-000\", \"Rimah\"])\n",
    "    write_to_sample2.writerow([\"MBH4-135-00-000-1\", \"135-00-000\", \"Sajir\"])\n",
    "    "
   ]
  },
  {
   "cell_type": "markdown",
   "metadata": {},
   "source": [
    "# Data Appending to a CSV File"
   ]
  },
  {
   "cell_type": "code",
   "execution_count": null,
   "metadata": {},
   "outputs": [],
   "source": [
    "with open (\"sample2.csv\", \"a\", newline=\"\") as k:\n",
    "    write_to_sample2 = csv.writer(k, delimiter=\",\")\n",
    "    write_to_sample2.writerow([\"MBH4-190-00-000-1\", \"190-00-000\", \"Rayn\"])\n",
    "    write_to_sample2.writerow([\"MBH4-ZMKA001\", \"ZMKA001\", \"Mina\"])"
   ]
  },
  {
   "cell_type": "markdown",
   "metadata": {},
   "source": [
    "# ALL ROWs to be printed"
   ]
  },
  {
   "cell_type": "code",
   "execution_count": null,
   "metadata": {},
   "outputs": [],
   "source": [
    "import csv\n",
    "with open(\"sample2.csv\") as f:\n",
    "    content_res = csv.reader(f)\n",
    "    content_py = []\n",
    "    for x in content_res:\n",
    "        print(x)"
   ]
  },
  {
   "cell_type": "markdown",
   "metadata": {},
   "source": [
    "# Example - Name and age"
   ]
  },
  {
   "cell_type": "code",
   "execution_count": null,
   "metadata": {},
   "outputs": [],
   "source": [
    "with open (\"name_age.csv\", \"w\") as name_csv:\n",
    "    name_csv.write(\"Doyle McCarty, 27\\n\")\n",
    "    name_csv.write(\"Jodi Mills, 25\\n\")\n",
    "    name_csv.write(\"Nicolas rose, 32\\n\")\n",
    "    name_csv.write(\"kian Goddard, 36\\n\")\n",
    "    name_csv.write(\"Zuha Hanania, 26\\n\")"
   ]
  },
  {
   "cell_type": "code",
   "execution_count": 11,
   "metadata": {},
   "outputs": [],
   "source": [
    "def writing_in_file(name, age):\n",
    "    with open(\"name_age.csv\", \"a\") as name_csv:\n",
    "        name_csv.write(f\"{name}, {age}\\n\")\n",
    "    \n",
    "def reading_from_file():\n",
    "    with open (\"name_age.csv\", \"r\") as name_1_csv:\n",
    "        content_name_1_csv = name_1_csv.read()\n",
    "        print(content_name_1_csv)\n",
    "        "
   ]
  },
  {
   "cell_type": "code",
   "execution_count": 13,
   "metadata": {},
   "outputs": [
    {
     "name": "stdout",
     "output_type": "stream",
     "text": [
      "if you want to continue please press Y\n",
      "Y\n",
      "please enter you name\n",
      "Sonia Saad\n",
      "please enter your age\n",
      "36\n",
      "if you want to continue please press Y\n",
      "Y\n",
      "please enter you name\n",
      "Saleha Saad\n",
      "please enter your age\n",
      "5\n",
      "if you want to continue please press Y\n",
      "Y\n",
      "please enter you name\n",
      "Sameeha Saad\n",
      "please enter your age\n",
      "3\n",
      "if you want to continue please press Y\n",
      "n\n",
      "Stopping\n",
      "\n",
      "Saad Mahmood, 43\n",
      "Sonia Saad, 36\n",
      "Saleha Saad, 5\n",
      "Sameeha Saad, 3\n",
      "\n"
     ]
    }
   ],
   "source": [
    "flag = True\n",
    "while flag:\n",
    "    print(\"if you want to continue please press Y\")\n",
    "    continue_1 = input()\n",
    "    continue_2 = continue_1.upper()\n",
    "    if continue_2 == \"Y\":\n",
    "        print(\"please enter you name\")\n",
    "        name_1 = input()\n",
    "        print(\"please enter your age\")\n",
    "        age_1 = int(input())\n",
    "        writing_in_file(name_1, age_1)\n",
    "    else:\n",
    "        print(\"Stopping\")\n",
    "        flag = False\n",
    "reading_from_file()"
   ]
  },
  {
   "cell_type": "code",
   "execution_count": 26,
   "metadata": {},
   "outputs": [
    {
     "name": "stdout",
     "output_type": "stream",
     "text": [
      "Saad Mahmood, 43\n",
      "Sonia Saad, 36\n",
      "Saleha Saad, 5\n",
      "Sameeha Saad, 3\n",
      "['Saad Mahmood', ' 43', 'Sonia Saad', ' 36', 'Saleha Saad', ' 5', 'Sameeha Saad', ' 3']\n"
     ]
    }
   ],
   "source": [
    "import csv\n",
    "content_all=[]\n",
    "with open (\"name_age.csv\", \"r\") as name_1_csv:\n",
    "    content_name_1_csv = csv.reader(name_1_csv)\n",
    "    for x in content_name_1_csv:\n",
    "        #print(x)\n",
    "        content_all +=x\n",
    "        print(\",\".join(x)) # Thsi will take out the squre brackets of list\n",
    "print(content_all)"
   ]
  },
  {
   "cell_type": "markdown",
   "metadata": {},
   "source": [
    "# A real CSV file"
   ]
  },
  {
   "cell_type": "code",
   "execution_count": 49,
   "metadata": {},
   "outputs": [
    {
     "name": "stdout",
     "output_type": "stream",
     "text": [
      "Saad, Male, 45\n",
      "Sonia, Female, 36\n",
      "Saleha, Female, 5\n",
      "Sameeha, Female, 3\n"
     ]
    }
   ],
   "source": [
    "import csv\n",
    "with open(\"new_file.csv\", \"w\", newline = \"\") as f:\n",
    "    datahandler = csv.writer(f, delimiter = \",\")\n",
    "    datahandler.writerow([\"Saad\",\"Male\", 45])\n",
    "    datahandler.writerow([\"Sonia\",\"Female\",36])\n",
    "    datahandler.writerow([\"Saleha\",\"Female\", 5])\n",
    "    datahandler.writerow([\"Sameeha\", \"Female\", 3])\n",
    "with open(\"new_file.csv\") as k:\n",
    "    content_k = csv.reader(k)\n",
    "    for x in content_k:\n",
    "        print(\", \".join(x))"
   ]
  },
  {
   "cell_type": "code",
   "execution_count": 50,
   "metadata": {},
   "outputs": [
    {
     "name": "stdout",
     "output_type": "stream",
     "text": [
      "Saad, Male, 45\n",
      "Sonia, Female, 36\n",
      "Saleha, Female, 5\n",
      "Sameeha, Female, 3\n",
      "Adnan, Male, 49\n",
      "Farah, Female, 47\n",
      "Aimen, Female, 39\n",
      "Aamina, Female, 16\n"
     ]
    }
   ],
   "source": [
    "import csv\n",
    "with open(\"new_file.csv\", \"a\", newline = \"\") as f:\n",
    "    datahandler = csv.writer(f, delimiter = \",\")\n",
    "    datahandler.writerow([\"Adnan\",\"Male\", 49])\n",
    "    datahandler.writerow([\"Farah\",\"Female\",47])\n",
    "    datahandler.writerow([\"Aimen\",\"Female\", 39])\n",
    "    datahandler.writerow([\"Aamina\", \"Female\", 16])\n",
    "with open(\"new_file.csv\") as k:\n",
    "    content_k = csv.reader(k)\n",
    "    for x in content_k:\n",
    "        print(\", \".join(x))"
   ]
  },
  {
   "cell_type": "code",
   "execution_count": 83,
   "metadata": {},
   "outputs": [
    {
     "name": "stdout",
     "output_type": "stream",
     "text": [
      "i have 00006 cats\n"
     ]
    }
   ],
   "source": []
  },
  {
   "cell_type": "code",
   "execution_count": null,
   "metadata": {},
   "outputs": [],
   "source": []
  }
 ],
 "metadata": {
  "kernelspec": {
   "display_name": "Python 3",
   "language": "python",
   "name": "python3"
  },
  "language_info": {
   "codemirror_mode": {
    "name": "ipython",
    "version": 3
   },
   "file_extension": ".py",
   "mimetype": "text/x-python",
   "name": "python",
   "nbconvert_exporter": "python",
   "pygments_lexer": "ipython3",
   "version": "3.7.6"
  }
 },
 "nbformat": 4,
 "nbformat_minor": 4
}
