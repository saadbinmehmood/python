{
 "cells": [
  {
   "cell_type": "markdown",
   "metadata": {},
   "source": [
    "# Writing something in the Text file"
   ]
  },
  {
   "cell_type": "code",
   "execution_count": 4,
   "metadata": {},
   "outputs": [],
   "source": [
    "with open (\"phytonfirstfile.txt\", \"w\") as f:\n",
    "    f.write(\"Saad Mahmood\")"
   ]
  },
  {
   "cell_type": "markdown",
   "metadata": {},
   "source": [
    "# Reading something from the Text File"
   ]
  },
  {
   "cell_type": "code",
   "execution_count": 2,
   "metadata": {},
   "outputs": [
    {
     "name": "stdout",
     "output_type": "stream",
     "text": [
      "Saad Mahmood\n"
     ]
    }
   ],
   "source": [
    "with open (\"phytonfirstfile.txt\", \"r\") as k:\n",
    "    check_1 = k.read()\n",
    "print(check_1)"
   ]
  },
  {
   "cell_type": "markdown",
   "metadata": {},
   "source": [
    "# Reading something from the Text File"
   ]
  },
  {
   "cell_type": "code",
   "execution_count": 3,
   "metadata": {},
   "outputs": [
    {
     "name": "stdout",
     "output_type": "stream",
     "text": [
      "Saad Mahmood\n"
     ]
    }
   ],
   "source": [
    "with open (\"phytonfirstfile.txt\") as k:\n",
    "    check_1 = k.read()\n",
    "print(check_1)"
   ]
  },
  {
   "cell_type": "markdown",
   "metadata": {},
   "source": [
    "# Appending data to a Text File"
   ]
  },
  {
   "cell_type": "code",
   "execution_count": 14,
   "metadata": {},
   "outputs": [
    {
     "name": "stdout",
     "output_type": "stream",
     "text": [
      "Saad Mahmood\n",
      "Raja Sultan Mahmood\n"
     ]
    }
   ],
   "source": [
    "with open (\"phytonfirstfile.txt\", \"w\") as f:\n",
    "    f.write(\"Saad Mahmood\")\n",
    "\n",
    "with open (\"phytonfirstfile.txt\", \"a\") as f:\n",
    "    f.write(\"\\nRaja Sultan Mahmood\")\n",
    "    \n",
    "with open (\"phytonfirstfile.txt\", \"r\") as j:\n",
    "    content_1 = j.read()\n",
    "print(content_1)"
   ]
  },
  {
   "cell_type": "markdown",
   "metadata": {},
   "source": [
    "# W+"
   ]
  },
  {
   "cell_type": "code",
   "execution_count": 10,
   "metadata": {},
   "outputs": [
    {
     "name": "stdout",
     "output_type": "stream",
     "text": [
      "This is a testing file\n"
     ]
    }
   ],
   "source": [
    "with open (\"first1.txt\", \"w+\") as k_1:    # W+ can be used for both write and read as well.\n",
    "    k_1.write(\"This is a testing file\")\n",
    "    k_1.seek(0)      # This bring back the index to teh start. If will not go back to the start print will show empty.\n",
    "    content_22 = k_1.read()\n",
    "print(content_22)"
   ]
  },
  {
   "cell_type": "markdown",
   "metadata": {},
   "source": [
    "# R+"
   ]
  },
  {
   "cell_type": "code",
   "execution_count": 14,
   "metadata": {},
   "outputs": [
    {
     "name": "stdout",
     "output_type": "stream",
     "text": [
      "Hello world\n",
      "we are putting new data in the file\n",
      "I think this is the last line\n"
     ]
    }
   ],
   "source": [
    "with open (\"first1.txt\", \"r+\") as k_11:    # R+ can be used for both write and read as well. But R+ will only work if the\n",
    "    k_11.write(\"Hello world\\n\")            # file already exist.\n",
    "    k_11.write(\"we are putting new data in the file\\n\")\n",
    "    k_11.write(\"I think this is the last line\")\n",
    "    k_11.seek(0)      # This bring back the index to teh start. If will not go back to the start print will show empty.\n",
    "    content_22 = k_11.read()\n",
    "print(content_22)"
   ]
  },
  {
   "cell_type": "code",
   "execution_count": null,
   "metadata": {},
   "outputs": [],
   "source": []
  }
 ],
 "metadata": {
  "kernelspec": {
   "display_name": "Python 3",
   "language": "python",
   "name": "python3"
  },
  "language_info": {
   "codemirror_mode": {
    "name": "ipython",
    "version": 3
   },
   "file_extension": ".py",
   "mimetype": "text/x-python",
   "name": "python",
   "nbconvert_exporter": "python",
   "pygments_lexer": "ipython3",
   "version": "3.7.6"
  }
 },
 "nbformat": 4,
 "nbformat_minor": 4
}
