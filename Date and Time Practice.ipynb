{
 "cells": [
  {
   "cell_type": "code",
   "execution_count": 47,
   "metadata": {},
   "outputs": [
    {
     "name": "stdout",
     "output_type": "stream",
     "text": [
      "2020-07-14\n",
      "14\n",
      "7\n",
      "2020\n",
      "14\n",
      "14 Jul 2020\n",
      "July 07/14/20 2020\n",
      "14th July 2020\n",
      "14-07-20\n",
      "28 2\n",
      "196\n",
      "Tue Tuesday\n",
      "14\n"
     ]
    }
   ],
   "source": [
    "import datetime\n",
    "today_1 = datetime.date.today()\n",
    "print(today_1)\n",
    "print(today_1.day)\n",
    "print(today_1.month)\n",
    "print(today_1.year)\n",
    "print(datetime.date.today().day)\n",
    "print(today_1.strftime(\"%d %b %Y\"))\n",
    "print(today_1.strftime(\"%B %D %Y\"))\n",
    "print(today_1.strftime(\"%dth %B %Y\"))\n",
    "print(today_1.strftime(\"%d-%m-%y\"))\n",
    "print(datetime.date.today().strftime(\"%W %w\")) # Week Number and weekday with sunday = 0 and saturday = 6\n",
    "print(datetime.date.today().strftime(\"%j\")) # Day of the year\n",
    "print(datetime.date.today().strftime(\"%a %A\")) # Day of the week with day name\n",
    "print(datetime.date.today().strftime(\"%d\")) # day of the month"
   ]
  },
  {
   "cell_type": "code",
   "execution_count": 48,
   "metadata": {},
   "outputs": [
    {
     "name": "stdout",
     "output_type": "stream",
     "text": [
      "Today is 14th july 2020\n",
      "Today is 14th July 2020\n"
     ]
    }
   ],
   "source": [
    "print(\"Today is 14th July 2020\")\n",
    "print(datetime.date.today().strftime(\"Today is %dth %B %Y\"))"
   ]
  },
  {
   "cell_type": "code",
   "execution_count": 58,
   "metadata": {},
   "outputs": [
    {
     "name": "stdout",
     "output_type": "stream",
     "text": [
      "enter your birthday in dd/mm/yyyy: 05/11/1976\n",
      "You were born on November 05th, 1976\n"
     ]
    }
   ],
   "source": [
    "birthday = input(\"enter your birthday in dd/mm/yyyy: \")\n",
    "birthdate = datetime.datetime.strptime(birthday, \"%d/%m/%Y\").date()\n",
    "\n",
    "print(\"You were born on \"+ birthdate.strftime(\"%B %dth, %Y\"))"
   ]
  },
  {
   "cell_type": "code",
   "execution_count": 64,
   "metadata": {},
   "outputs": [
    {
     "name": "stdout",
     "output_type": "stream",
     "text": [
      "114\n"
     ]
    }
   ],
   "source": [
    "date_1 = \"05/11/2020\"\n",
    "date_1_con = datetime.datetime.strptime(date_1, \"%d/%m/%Y\").date()\n",
    "today_1 = datetime.date.today()\n",
    "days_remaining = date_1_con-today_1\n",
    "print(days_remaining.days)"
   ]
  },
  {
   "cell_type": "code",
   "execution_count": 68,
   "metadata": {},
   "outputs": [
    {
     "name": "stdout",
     "output_type": "stream",
     "text": [
      "2020-07-15\n"
     ]
    }
   ],
   "source": [
    "today_2 = datetime.date.today()\n",
    "print(today_2+datetime.timedelta(hours=25))"
   ]
  },
  {
   "cell_type": "markdown",
   "metadata": {},
   "source": [
    "# TIME"
   ]
  },
  {
   "cell_type": "code",
   "execution_count": 98,
   "metadata": {},
   "outputs": [
    {
     "name": "stdout",
     "output_type": "stream",
     "text": [
      "21:31:34.396159\n",
      "21\n",
      "31\n",
      "34\n",
      "09:31:34 PM\n"
     ]
    }
   ],
   "source": [
    "current_time = datetime.datetime.now()\n",
    "print(current_time.time())\n",
    "print(datetime.datetime.now().hour)\n",
    "print(datetime.datetime.now().minute)\n",
    "print(datetime.datetime.now().second)\n",
    "print(datetime.datetime.now().strftime(\"%I:%M:%S %p\"))"
   ]
  },
  {
   "cell_type": "markdown",
   "metadata": {},
   "source": [
    "# Time and Date"
   ]
  },
  {
   "cell_type": "code",
   "execution_count": 13,
   "metadata": {},
   "outputs": [
    {
     "name": "stdout",
     "output_type": "stream",
     "text": [
      "Today is Friday, dated 24th July 2020\n",
      "My birthday is on Thursday, dated 05th November 2020 which is 44th week of the year.\n",
      "104 days remaining in my birthday\n",
      "Today is Friday, dated 24th July 2020\n",
      "2020-11-05\n",
      "It is 10:34:17 AM right now. While the date is 24th July 2020 and the day is Friday\n"
     ]
    }
   ],
   "source": [
    "import datetime\n",
    "currentdate = datetime.date.today()\n",
    "mybirthday = \"05/11/2020\"\n",
    "my_birthday = datetime.datetime.strptime(mybirthday, \"%d/%m/%Y\").date()\n",
    "print(currentdate.strftime(\"Today is %A, dated %dth %B %Y\"))\n",
    "print(my_birthday.strftime(\"My birthday is on %A, dated %dth %B %Y which is %Wth week of the year.\"))\n",
    "days_left = my_birthday-currentdate\n",
    "print(days_left.days, \"days remaining in my birthday\")\n",
    "print(currentdate.strftime(\"Today is %A, dated %dth %B %Y\"))\n",
    "print(currentdate+datetime.timedelta(days=104))\n",
    "currenttime=datetime.datetime.now()\n",
    "print(currenttime.strftime(\"It is %H:%M:%S %p right now. While the date is \"), end=\"\")\n",
    "print(currentdate.strftime(\"%dth %B %Y and the day is %A\"))"
   ]
  },
  {
   "cell_type": "code",
   "execution_count": null,
   "metadata": {},
   "outputs": [],
   "source": []
  }
 ],
 "metadata": {
  "kernelspec": {
   "display_name": "Python 3",
   "language": "python",
   "name": "python3"
  },
  "language_info": {
   "codemirror_mode": {
    "name": "ipython",
    "version": 3
   },
   "file_extension": ".py",
   "mimetype": "text/x-python",
   "name": "python",
   "nbconvert_exporter": "python",
   "pygments_lexer": "ipython3",
   "version": "3.7.6"
  }
 },
 "nbformat": 4,
 "nbformat_minor": 4
}
