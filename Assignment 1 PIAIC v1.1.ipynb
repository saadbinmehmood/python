{
 "cells": [
  {
   "cell_type": "markdown",
   "metadata": {},
   "source": [
    "# Even or ODD"
   ]
  },
  {
   "cell_type": "code",
   "execution_count": 51,
   "metadata": {},
   "outputs": [
    {
     "name": "stdout",
     "output_type": "stream",
     "text": [
      "Put a number: -87\n",
      "Negative Number is entered\n"
     ]
    }
   ],
   "source": [
    "num_1 = float(input(\"Put a number: \"))\n",
    "num_2 = int(num_1)\n",
    "if num_1 > 0:\n",
    "    if num_1.is_integer() == True:\n",
    "        if num_1 % 2 == 0:\n",
    "            print(f\"{num_2} is an Even Number\")\n",
    "        elif num_1 % 2 != 0:\n",
    "            print(f\"{num_2} is an Odd Number\")\n",
    "    else:\n",
    "        print(f\"{num_1} is Float Number\")\n",
    "elif num_1 == 0:\n",
    "    print(f\"{num_2} is entered\")\n",
    "elif num_1 < 0:\n",
    "    print(\"Negative Number is entered\")"
   ]
  },
  {
   "cell_type": "markdown",
   "metadata": {},
   "source": [
    "# Vowel"
   ]
  },
  {
   "cell_type": "code",
   "execution_count": 279,
   "metadata": {},
   "outputs": [
    {
     "name": "stdout",
     "output_type": "stream",
     "text": [
      "input a letter: ksa\n",
      "Letter k is not a Vowel but a consonant\n",
      "Letter s is not a Vowel but a consonant\n",
      "Letter a is Vowel\n"
     ]
    }
   ],
   "source": [
    "letter_1 = input(\"input a letter: \")\n",
    "for x in letter_1:\n",
    "    if (x.upper() == \"A\") or (x.upper() == \"E\") or (x.upper() == \"I\") or (x.upper() == \"O\") or (x.upper() == \"U\"):\n",
    "        print(f\"Letter {x} is Vowel\")\n",
    "    else:\n",
    "        print(f\"Letter {x} is not a Vowel but a consonant\")"
   ]
  },
  {
   "cell_type": "markdown",
   "metadata": {},
   "source": [
    "# Area of a triangle"
   ]
  },
  {
   "cell_type": "code",
   "execution_count": 90,
   "metadata": {},
   "outputs": [
    {
     "name": "stdout",
     "output_type": "stream",
     "text": [
      "Height: 4\n",
      "Base: 4\n",
      "Area of triangle is 8.0\n"
     ]
    }
   ],
   "source": [
    "height_1 = float(input(\"Height: \"))\n",
    "base_1 = float(input(\"Base: \"))\n",
    "area = (height_1*base_1)/2\n",
    "print(f\"Area of triangle is {area}\")"
   ]
  },
  {
   "cell_type": "markdown",
   "metadata": {},
   "source": [
    "# Interest Rate"
   ]
  },
  {
   "cell_type": "code",
   "execution_count": 99,
   "metadata": {},
   "outputs": [
    {
     "name": "stdout",
     "output_type": "stream",
     "text": [
      "amount: 10000\n",
      "interest in percent: .1\n",
      "months: 60\n",
      "10618.047131469646\n"
     ]
    }
   ],
   "source": [
    "amount_1 = float(input(\"amount: \"))\n",
    "interest_1 = float(input(\"interest in percent: \"))\n",
    "months_1 = int(input(\"months: \"))\n",
    "for x in range(months_1):\n",
    "    amount_1 += (amount_1*interest_1/100)\n",
    "    #print(amount_1)\n",
    "print(amount_1)"
   ]
  },
  {
   "cell_type": "markdown",
   "metadata": {},
   "source": [
    "# Prime Numer"
   ]
  },
  {
   "cell_type": "code",
   "execution_count": 201,
   "metadata": {},
   "outputs": [
    {
     "name": "stdout",
     "output_type": "stream",
     "text": [
      "Enter an integer: 3457\n",
      "3457 is a Prime number\n"
     ]
    }
   ],
   "source": [
    "num_4 = int(input(\"Enter an integer: \"))\n",
    "if num_4 > 0:\n",
    "    for x in range(2, num_4):\n",
    "        if num_4 % x == 0:\n",
    "            y = \"Not a Prime\"\n",
    "            break\n",
    "        elif num_4 % x != 0:\n",
    "            y = \"a Prime\"\n",
    "    print(f\"{num_4} is {y} number\")\n",
    "elif num_4 <= 0:\n",
    "    print(\"enter a positive integer\")\n"
   ]
  },
  {
   "cell_type": "markdown",
   "metadata": {},
   "source": [
    "# Height Convertor"
   ]
  },
  {
   "cell_type": "code",
   "execution_count": 195,
   "metadata": {},
   "outputs": [
    {
     "name": "stdout",
     "output_type": "stream",
     "text": [
      "Provide your height - Feet part only: 5\n",
      "provide your height - Inch part: 2\n",
      "Your height in 157.48000000000002 cm\n"
     ]
    }
   ],
   "source": [
    "height_feet = int(input(\"Provide your height - Feet part only: \")) # this is only the feet part of height\n",
    "height_in = float(input(\"provide your height - Inch part: \"))# This is only inch part of height\n",
    "height_cm = (30.48 * height_feet)+(2.54 * height_in)\n",
    "print(f\"Your height in {height_cm} cm\")"
   ]
  },
  {
   "cell_type": "markdown",
   "metadata": {},
   "source": [
    "# Euclidean Distance"
   ]
  },
  {
   "cell_type": "code",
   "execution_count": 171,
   "metadata": {},
   "outputs": [
    {
     "name": "stdout",
     "output_type": "stream",
     "text": [
      "Enter coordinates of x1: 2\n",
      "Enter coordinates of x2: 4\n",
      "Enter coordinates of y1: 4\n",
      "Enter coordinates of y2: 4\n",
      "2.0\n"
     ]
    }
   ],
   "source": [
    "x1 = int(input(\"Enter coordinates of x1: \"))\n",
    "x2 = int(input(\"Enter coordinates of x2: \"))\n",
    "y1 = int(input(\"Enter coordinates of y1: \"))\n",
    "y2 = int(input(\"Enter coordinates of y2: \"))\n",
    "distance = (((y1-x1)**2)+((y2-x2)**2))**(0.5)\n",
    "print(distance)"
   ]
  },
  {
   "cell_type": "markdown",
   "metadata": {},
   "source": [
    "# BMI Calculator"
   ]
  },
  {
   "cell_type": "code",
   "execution_count": 196,
   "metadata": {},
   "outputs": [
    {
     "name": "stdout",
     "output_type": "stream",
     "text": [
      "Height in cm: 157.48\n",
      "weight in kg: 70\n",
      "Your BMI is 28.22586290333871\n"
     ]
    }
   ],
   "source": [
    "height_in_cm = float(input(\"Height in cm: \"))/100\n",
    "weight_in_kg = float(input(\"weight in kg: \"))\n",
    "BMI_cal = (weight_in_kg/((height_in_cm)**2))\n",
    "print(f\"Your BMI is {BMI_cal}\")"
   ]
  },
  {
   "cell_type": "markdown",
   "metadata": {},
   "source": [
    "# Sum of N positive integers"
   ]
  },
  {
   "cell_type": "code",
   "execution_count": 214,
   "metadata": {},
   "outputs": [
    {
     "name": "stdout",
     "output_type": "stream",
     "text": [
      "Enter a positive integer: 125678\n",
      "7897542681\n"
     ]
    }
   ],
   "source": [
    "num_10 = int(input(\"Enter a positive integer: \"))\n",
    "sum_1 = 0\n",
    "for x in range(num_10+1):\n",
    "    sum_1 += x\n",
    "# if tpye(num_10) == True:\n",
    "print(sum_1)"
   ]
  },
  {
   "cell_type": "markdown",
   "metadata": {},
   "source": [
    "# Sum of digits in a number"
   ]
  },
  {
   "cell_type": "code",
   "execution_count": 219,
   "metadata": {},
   "outputs": [
    {
     "name": "stdout",
     "output_type": "stream",
     "text": [
      "enter a positive integer: 123456789\n",
      "45\n"
     ]
    }
   ],
   "source": [
    "y = 0\n",
    "num_11 = input(\"enter a positive integer: \")\n",
    "for x in num_11:\n",
    "    y +=int(x)\n",
    "print(y)"
   ]
  },
  {
   "cell_type": "markdown",
   "metadata": {},
   "source": [
    "# Counting Vowel and consonant"
   ]
  },
  {
   "cell_type": "code",
   "execution_count": 236,
   "metadata": {},
   "outputs": [
    {
     "name": "stdout",
     "output_type": "stream",
     "text": [
      "input a word: pakistan\n",
      "Number of vowel is 3 and the Vowel letters are aia\n",
      "Number of consonant is 5 and the consonant letters are pkstn\n"
     ]
    }
   ],
   "source": [
    "letter_1 = input(\"input a word: \")\n",
    "vow_1 = \"\"\n",
    "conso_1 = \"\"\n",
    "for x in letter_1:\n",
    "    if (x.upper() == \"A\") or (x.upper() == \"E\") or (x.upper() == \"I\") or (x.upper() == \"O\") or (x.upper() == \"U\"):\n",
    "        vow_1 += x\n",
    "    else:\n",
    "        conso_1 += x\n",
    "conso_2 = len(letter_1)-len(vow_1)\n",
    "vow_2 = len(vow_1)\n",
    "print(f\"Number of vowel is {vow_2} and the Vowel letters are {vow_1}\")\n",
    "print(f\"Number of consonant is {conso_2} and the consonant letters are {conso_1}\")"
   ]
  },
  {
   "cell_type": "markdown",
   "metadata": {},
   "source": [
    "# Palindrome Tester"
   ]
  },
  {
   "cell_type": "code",
   "execution_count": 280,
   "metadata": {},
   "outputs": [
    {
     "name": "stdout",
     "output_type": "stream",
     "text": [
      "enter a letter to check that its palindrome or not: count\n",
      "count is not a palindrome\n"
     ]
    }
   ],
   "source": [
    "pal_1 = input(\"enter a letter to check that its palindrome or not: \")\n",
    "pal_1_len = len(pal_1)\n",
    "pal_inv = pal_1[pal_1_len-1::-1]\n",
    "if pal_1 == pal_inv:\n",
    "    print(f\"{pal_1} is a palindrome\")\n",
    "else:\n",
    "    print(f\"{pal_1} is not a palindrome\")"
   ]
  },
  {
   "cell_type": "code",
   "execution_count": 276,
   "metadata": {},
   "outputs": [
    {
     "name": "stdout",
     "output_type": "stream",
     "text": [
      "4\n"
     ]
    },
    {
     "data": {
      "text/plain": [
       "'paha'"
      ]
     },
     "execution_count": 276,
     "metadata": {},
     "output_type": "execute_result"
    }
   ],
   "source": [
    "a = \"ahap\"\n",
    "c = len(a)\n",
    "print(c)\n",
    "b = a[c-1::-1]\n",
    "b"
   ]
  },
  {
   "cell_type": "code",
   "execution_count": 266,
   "metadata": {},
   "outputs": [
    {
     "name": "stdout",
     "output_type": "stream",
     "text": [
      "True\n"
     ]
    }
   ],
   "source": [
    "a = \"aha\"\n",
    "b = \"aha\"\n",
    "print (a == b)"
   ]
  },
  {
   "cell_type": "code",
   "execution_count": null,
   "metadata": {},
   "outputs": [],
   "source": []
  }
 ],
 "metadata": {
  "kernelspec": {
   "display_name": "Python 3",
   "language": "python",
   "name": "python3"
  },
  "language_info": {
   "codemirror_mode": {
    "name": "ipython",
    "version": 3
   },
   "file_extension": ".py",
   "mimetype": "text/x-python",
   "name": "python",
   "nbconvert_exporter": "python",
   "pygments_lexer": "ipython3",
   "version": "3.7.6"
  }
 },
 "nbformat": 4,
 "nbformat_minor": 4
}
