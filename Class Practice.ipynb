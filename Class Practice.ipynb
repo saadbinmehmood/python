{
 "cells": [
  {
   "cell_type": "code",
   "execution_count": 2,
   "metadata": {},
   "outputs": [],
   "source": [
    "class Cars():\n",
    "    def __init__(self, make, model, engine, color):\n",
    "        self.make = make\n",
    "        self.model = model\n",
    "        self.engine = engine\n",
    "        self.color = color\n",
    "        self.odometer_reading = 0 # default value\n",
    "    # attributes\n",
    "        # model\n",
    "        #make\n",
    "        #engine\n",
    "        #color\n",
    "    \n",
    "    # behavoiur\n",
    "        # run\n",
    "        # stop\n",
    "    def run(self):\n",
    "        print(f\"{self.make} {self.model} is running\")\n",
    "    def stop(self):\n",
    "        print(f\"{self.make} {self.model} is stopped\")\n",
    "    def get_long_name(self):\n",
    "        long_1 = self.make + \" \" + self.model + \" \" + self.engine + \" \" + self.color\n",
    "        print (long_1)\n",
    "        \n",
    "    def get_odometer_reading(self):\n",
    "        print(f\"This car has {self.odometer_reading} odometer reading\")\n",
    "        \n",
    "    def set_odometer_reading(self, new_reading):\n",
    "        # This will set the odometer reading\n",
    "        self.odometer_reading = new_reading\n",
    "        \n",
    "    def increment_odometer_reading(self, new_reading_1):\n",
    "        self.odometer_reading += new_reading_1\n",
    "           "
   ]
  },
  {
   "cell_type": "code",
   "execution_count": null,
   "metadata": {},
   "outputs": [],
   "source": [
    "#attibute / properties or varibales\n",
    "#behavoiuer/actions or function\n",
    "# class can have subclasses"
   ]
  },
  {
   "cell_type": "code",
   "execution_count": 3,
   "metadata": {},
   "outputs": [],
   "source": [
    "car1 = Cars(\"Nissan\", \"Altima\", \"1.5L Turbo\", \"White\")\n",
    "car2 = Cars(\"Nissan\", \"Maxima\", \"3.5L\", \"black\")\n",
    "car1 = Cars(\"Toyota\", \"Camry\", \"2.5L\", \"Silver\")"
   ]
  },
  {
   "cell_type": "code",
   "execution_count": 4,
   "metadata": {},
   "outputs": [
    {
     "name": "stdout",
     "output_type": "stream",
     "text": [
      "Honda Accord is running\n",
      "Honda Accord 2.5L Silver\n",
      "This car has 300 odometer reading\n"
     ]
    }
   ],
   "source": [
    "car1.model = \"Accord\"\n",
    "car1.make = \"Honda\"\n",
    "car1.model\n",
    "car1.run()\n",
    "car1.get_long_name()\n",
    "car2.set_odometer_reading(300)\n",
    "car2.get_odometer_reading()"
   ]
  },
  {
   "cell_type": "code",
   "execution_count": 5,
   "metadata": {},
   "outputs": [
    {
     "name": "stdout",
     "output_type": "stream",
     "text": [
      "This car has 800 odometer reading\n"
     ]
    }
   ],
   "source": [
    "car2.increment_odometer_reading(500)\n",
    "car2.get_odometer_reading()"
   ]
  },
  {
   "cell_type": "code",
   "execution_count": 6,
   "metadata": {},
   "outputs": [
    {
     "name": "stdout",
     "output_type": "stream",
     "text": [
      "This car has 800 odometer reading\n"
     ]
    }
   ],
   "source": [
    "car2.get_odometer_reading()"
   ]
  },
  {
   "cell_type": "code",
   "execution_count": 7,
   "metadata": {},
   "outputs": [],
   "source": [
    "car2.set_odometer_reading(200)"
   ]
  },
  {
   "cell_type": "code",
   "execution_count": 8,
   "metadata": {},
   "outputs": [
    {
     "name": "stdout",
     "output_type": "stream",
     "text": [
      "This car has 200 odometer reading\n"
     ]
    }
   ],
   "source": [
    "car2.get_odometer_reading()"
   ]
  },
  {
   "cell_type": "code",
   "execution_count": 9,
   "metadata": {},
   "outputs": [
    {
     "name": "stdout",
     "output_type": "stream",
     "text": [
      "This car has 800 odometer reading\n"
     ]
    }
   ],
   "source": [
    "car2.increment_odometer_reading(600)\n",
    "car2.get_odometer_reading()"
   ]
  },
  {
   "cell_type": "markdown",
   "metadata": {},
   "source": [
    "# Class Example - Bike"
   ]
  },
  {
   "cell_type": "code",
   "execution_count": 11,
   "metadata": {},
   "outputs": [],
   "source": [
    "class Bikes():\n",
    "    def __init__(self, make, model, max_speed, price):\n",
    "        self.make = make\n",
    "        self.model = model\n",
    "        self.max_speed = max_speed\n",
    "        self.price = price\n",
    "        self.odometer = \"0 km\"\n",
    "        \n",
    "    def set_make(self, update_make):\n",
    "        self.make = update_make\n",
    "    def get_make(self):\n",
    "        print(self.make)\n",
    "        \n",
    "    def set_model(self, update_model):\n",
    "        self.model = update_model\n",
    "    def get_model(self):\n",
    "        print(self.model)\n",
    "        \n",
    "    def set_max_speed(self, update_max_speed):\n",
    "        self.max_speed = update_max_speed\n",
    "    def get_max_speed(self):\n",
    "        print(self.max_speed)\n",
    "        \n",
    "    def set_price(self, update_price):\n",
    "        self.price = update_price\n",
    "    def get_price(self):\n",
    "        print(self.price)\n",
    "    \n",
    "    def set_odometer(self, update_odometer):\n",
    "        self.odometer = update_odometer\n",
    "    def get_odometer(self):\n",
    "        print(self.odometer)\n",
    "    \n",
    "    def full_desc(self):\n",
    "        print(f\"It's a {self.make} {self.model} having a showroom price of {self.price}. Top speed is {self.max_speed}\" )\n",
    "    "
   ]
  },
  {
   "cell_type": "code",
   "execution_count": 12,
   "metadata": {},
   "outputs": [
    {
     "name": "stdout",
     "output_type": "stream",
     "text": [
      "Yamaha\n",
      "FZR1\n",
      "58000 SAR\n",
      "310 km/h\n",
      "10 km\n",
      "It's a Yamaha FZR1 having a showroom price of 58000 SAR. Top speed is 310 km/h\n"
     ]
    }
   ],
   "source": [
    "bike1 = Bikes(\"Honda\", \"CBR1000\", \"300 km/h\", \"60000 SAR\")\n",
    "bike1.max_speed\n",
    "bike1.odometer\n",
    "bike1.set_make(\"Yamaha\")\n",
    "bike1.get_make()\n",
    "bike1.set_model(\"FZR1\")\n",
    "bike1.get_model()\n",
    "bike1.set_price(\"58000 SAR\")\n",
    "bike1.get_price()\n",
    "bike1.set_max_speed(\"310 km/h\")\n",
    "bike1.get_max_speed()\n",
    "bike1.set_odometer(\"10 km\")\n",
    "bike1.get_odometer()\n",
    "bike1.full_desc()"
   ]
  },
  {
   "cell_type": "markdown",
   "metadata": {},
   "source": [
    "# Class Example - Resturant 9.1 - 9.2"
   ]
  },
  {
   "cell_type": "code",
   "execution_count": 13,
   "metadata": {},
   "outputs": [],
   "source": [
    "class Resturant():\n",
    "    def __init__(self, name, cusine_type):\n",
    "        self.name = name\n",
    "        self.cusine_type = cusine_type\n",
    "        \n",
    "    def desc_rest (self):\n",
    "        print(f\"Resturant is \\\"{self.name}\\\" having an \\\"{self.cusine_type}\\\" cusine\")\n",
    "    def open_rest (self):\n",
    "        print(f\"\\\"{self.name}\\\" is still open\")\n"
   ]
  },
  {
   "cell_type": "code",
   "execution_count": 14,
   "metadata": {},
   "outputs": [
    {
     "name": "stdout",
     "output_type": "stream",
     "text": [
      "Resturant is \"PC Burban\" having an \"Asain\" cusine\n",
      "\"PC Burban\" is still open\n"
     ]
    }
   ],
   "source": [
    "rest_1 = Resturant(\"PC Burban\", \"Asain\")\n",
    "rest_1.name\n",
    "rest_1.cusine_type\n",
    "rest_1.desc_rest()\n",
    "rest_1.open_rest()"
   ]
  },
  {
   "cell_type": "code",
   "execution_count": 15,
   "metadata": {},
   "outputs": [
    {
     "name": "stdout",
     "output_type": "stream",
     "text": [
      "Resturant is \"PC Burban\" having an \"Asain\" cusine\n",
      "Resturant is \"Atlantas\" having an \"Intercontinential\" cusine\n",
      "Resturant is \"Armani\" having an \"Arabain, Italian, Chinese\" cusine\n"
     ]
    }
   ],
   "source": [
    "rest_2 = Resturant(\"Atlantas\", \"Intercontinential\")\n",
    "rest_3 = Resturant(\"Armani\", \"Arabain, Italian, Chinese\")\n",
    "rest_1.desc_rest()\n",
    "rest_2.desc_rest()\n",
    "rest_3.desc_rest()"
   ]
  },
  {
   "cell_type": "markdown",
   "metadata": {},
   "source": [
    "# Class Example - User 9.3"
   ]
  },
  {
   "cell_type": "code",
   "execution_count": 16,
   "metadata": {},
   "outputs": [],
   "source": [
    "class User():\n",
    "    def __init__(self, first_name, last_name, age, gender, profession):\n",
    "        self.first_name = first_name.title()\n",
    "        self.last_name = last_name.title()\n",
    "        self.age = age\n",
    "        self.gender = gender.lower()\n",
    "        self.profession = profession.title()\n",
    "    def desc_user(self):\n",
    "        print(f\"{self.first_name} {self.last_name} is a {self.age} year old {self.gender} {self.profession}.\")\n",
    "    def greet_user(self):\n",
    "        print(f\"Welcome {self.profession} {self.first_name} {self.last_name}.\")"
   ]
  },
  {
   "cell_type": "code",
   "execution_count": 17,
   "metadata": {},
   "outputs": [
    {
     "name": "stdout",
     "output_type": "stream",
     "text": [
      "Saad Mahmood is a 43 year old male Enginner.\n",
      "Welcome Enginner Saad Mahmood.\n"
     ]
    }
   ],
   "source": [
    "user1=User(\"saad\",\"mahmood\", 43, \"male\", \"enginner\" )\n",
    "user1.desc_user()\n",
    "user1.greet_user()"
   ]
  },
  {
   "cell_type": "code",
   "execution_count": 18,
   "metadata": {},
   "outputs": [
    {
     "name": "stdout",
     "output_type": "stream",
     "text": [
      "Sonia Saad is a 36 year old female Doctor.\n",
      "Welcome Doctor Sonia Saad.\n"
     ]
    }
   ],
   "source": [
    "user2=User(\"Sonia\", \"saad\", 36, \"female\", \"doctor\")\n",
    "user2.desc_user()\n",
    "user2.greet_user()"
   ]
  },
  {
   "cell_type": "markdown",
   "metadata": {},
   "source": [
    "# Class Example - 9.4"
   ]
  },
  {
   "cell_type": "code",
   "execution_count": 19,
   "metadata": {},
   "outputs": [],
   "source": [
    "class Resturant():\n",
    "    def __init__(self, name, cusine_type):\n",
    "        self.name = name\n",
    "        self.cusine_type = cusine_type\n",
    "        self.number_served = 0\n",
    "        \n",
    "    def desc_rest (self):\n",
    "        print(f\"Resturant is \\\"{self.name}\\\" having an \\\"{self.cusine_type}\\\" cusine\")\n",
    "    def open_rest (self):\n",
    "        print(f\"\\\"{self.name}\\\" is still open\")\n",
    "    def set_number_served(self, update_number_served):\n",
    "        self.number_served = update_number_served\n",
    "    def incre_number_served(self, incre_number_served):\n",
    "        self.number_served += incre_number_served"
   ]
  },
  {
   "cell_type": "code",
   "execution_count": 20,
   "metadata": {},
   "outputs": [
    {
     "name": "stdout",
     "output_type": "stream",
     "text": [
      "0\n",
      "100\n",
      "200\n",
      "250\n"
     ]
    }
   ],
   "source": [
    "rest_4 = Resturant(\"Kingdom Tower - Four Seasons\", \"Arabian\")\n",
    "print(rest_4.number_served)\n",
    "rest_4.number_served = 100\n",
    "print(rest_4.number_served)\n",
    "rest_4.set_number_served(200)\n",
    "print(rest_4.number_served)\n",
    "rest_4.incre_number_served(50)\n",
    "print(rest_4.number_served)"
   ]
  },
  {
   "cell_type": "markdown",
   "metadata": {},
   "source": [
    "# Class Example 9.5"
   ]
  },
  {
   "cell_type": "code",
   "execution_count": 21,
   "metadata": {},
   "outputs": [],
   "source": [
    "class User():\n",
    "    def __init__(self, first_name, last_name, age, gender, profession):\n",
    "        self.first_name = first_name.title()\n",
    "        self.last_name = last_name.title()\n",
    "        self.age = age\n",
    "        self.gender = gender.lower()\n",
    "        self.profession = profession.title()\n",
    "        self.login_attempts = 0\n",
    "    def desc_user(self):\n",
    "        print(f\"{self.first_name} {self.last_name} is a {self.age} year old {self.gender} {self.profession}.\")\n",
    "    def greet_user(self):\n",
    "        print(f\"Welcome {self.profession} {self.first_name} {self.last_name}.\")\n",
    "    def incr_login_attempts(self):\n",
    "        self.login_attempts += 1\n",
    "    def reset_login_attempts(self):\n",
    "        self.login_attempts = 0"
   ]
  },
  {
   "cell_type": "code",
   "execution_count": 22,
   "metadata": {},
   "outputs": [
    {
     "name": "stdout",
     "output_type": "stream",
     "text": [
      "0\n",
      "3\n",
      "0\n"
     ]
    }
   ],
   "source": [
    "user3 = User(\"Adnan\", \"Mahmood\", 49, \"Male\", \"Enginner\")\n",
    "print(user3.login_attempts)\n",
    "user3.incr_login_attempts()\n",
    "user3.incr_login_attempts()\n",
    "user3.incr_login_attempts()\n",
    "print(user3.login_attempts)\n",
    "user3.reset_login_attempts()\n",
    "print(user3.login_attempts)"
   ]
  },
  {
   "cell_type": "markdown",
   "metadata": {},
   "source": [
    "# Class Inheritance"
   ]
  },
  {
   "cell_type": "code",
   "execution_count": 68,
   "metadata": {},
   "outputs": [],
   "source": [
    "class Battery():\n",
    "    def __init__(self, battery_size = 75):\n",
    "        self.battery_size = battery_size\n",
    "        \n",
    "    def desc_battery(self):\n",
    "        print(f\"It has {self.battery_size} kwh battery. Got it\")\n",
    "    \n",
    "    def battery_range(self):\n",
    "        if self.battery_size == 75:\n",
    "            range = 260\n",
    "        elif self. battery_size == 100:\n",
    "            range = 315\n",
    "        print(f\"The range of this car is {range} mile\")\n",
    "    \n",
    "    "
   ]
  },
  {
   "cell_type": "code",
   "execution_count": 69,
   "metadata": {},
   "outputs": [],
   "source": [
    "class ElectricCar(Cars):\n",
    "    def __init__(self, make , model, engine, color): # This is initilizer for the child class\n",
    "        super().__init__(make , model, engine, color) # This initilizes all the attributes and methods from parent class\n",
    "        self.battery= Battery() # battery attribute is now refering to a Battery Class which is created above\n",
    "        \n",
    "\n",
    "        "
   ]
  },
  {
   "cell_type": "code",
   "execution_count": 74,
   "metadata": {},
   "outputs": [
    {
     "name": "stdout",
     "output_type": "stream",
     "text": [
      "Tesla model S 3.0L Black\n",
      "It has 75 kwh battery. Got it\n",
      "The range of this car is 260 mile\n",
      "The range of this car is 260 mile\n"
     ]
    }
   ],
   "source": [
    "my_tesla = ElectricCar(\"Tesla\", \"model S\", \"3.0L\", \"Black\")\n",
    "my_tesla.get_long_name()\n",
    "my_tesla.battery.desc_battery()\n",
    "my_tesla.battery.battery_range()\n",
    "my_tesla.battery.battery_range()"
   ]
  },
  {
   "cell_type": "markdown",
   "metadata": {},
   "source": [
    "# Class Inheritance Example - 9.6"
   ]
  },
  {
   "cell_type": "code",
   "execution_count": 132,
   "metadata": {},
   "outputs": [],
   "source": [
    "class IceCreamStand(Resturant):\n",
    "    def __init__(self, name, cusine_type):\n",
    "        super().__init__(name, cusine_type)\n",
    "        self.flavors = [\"Vanilla\", \"Chochlate\"]\n",
    "    \n",
    "    def add_flavors(self, update_flavors):\n",
    "        x = update_flavors.title()\n",
    "        self.flavors.append(x)\n",
    "    \n",
    "    def display_flavors(self):\n",
    "        print(f\"The Icecream flavor is {self.flavors}\")    "
   ]
  },
  {
   "cell_type": "code",
   "execution_count": 133,
   "metadata": {},
   "outputs": [
    {
     "name": "stdout",
     "output_type": "stream",
     "text": [
      "Resturant is \"ABC\" having an \"Ice Cream\" cusine\n",
      "The Icecream flavor is ['Vanilla', 'Chochlate', 'Praline']\n"
     ]
    }
   ],
   "source": [
    "icestand_1 = IceCreamStand(\"ABC\", \"Ice Cream\")\n",
    "icestand_1.desc_rest()\n",
    "icestand_1.add_flavors(\"praline\")\n",
    "icestand_1.flavors\n",
    "icestand_1.display_flavors()"
   ]
  },
  {
   "cell_type": "markdown",
   "metadata": {},
   "source": [
    "# Class Inheritance Example 9.7"
   ]
  },
  {
   "cell_type": "code",
   "execution_count": 142,
   "metadata": {},
   "outputs": [],
   "source": [
    "class Admin(User):\n",
    "    def __init__(self,first_name, last_name, age, gender, profession):\n",
    "        super().__init__(first_name, last_name, age, gender, profession)\n",
    "        self.privilidges = \"can add post\", \"can delete post\", \"can ban user\"\n",
    "    \n",
    "    def show_privilidges(self):\n",
    "        print(f\"The privilidges are {self.privilidges}\")\n",
    "    "
   ]
  },
  {
   "cell_type": "code",
   "execution_count": 144,
   "metadata": {},
   "outputs": [
    {
     "name": "stdout",
     "output_type": "stream",
     "text": [
      "The privilidges are ('can add post', 'can delete post', 'can ban user')\n"
     ]
    }
   ],
   "source": [
    "admin_user_1 = Admin(\"Aimen\", \"AAkif\", 39, \"Female\", \"Enginner\")\n",
    "admin_user_1.show_privilidges()"
   ]
  },
  {
   "cell_type": "markdown",
   "metadata": {},
   "source": [
    "# Class Inheritence Example 9.8"
   ]
  },
  {
   "cell_type": "code",
   "execution_count": 149,
   "metadata": {},
   "outputs": [],
   "source": [
    "class Privilidges():\n",
    "    def __init__(self, privilidges=[\"can add post\", \"can delete post\", \"can ban user\"]):\n",
    "        self.privilidges = privilidges\n",
    "        \n",
    "    def show_privilidges(self):\n",
    "        print(f\"The privilidges are {self.privilidges}. Got it\")"
   ]
  },
  {
   "cell_type": "code",
   "execution_count": 150,
   "metadata": {},
   "outputs": [],
   "source": [
    "class Admin(User):\n",
    "    def __init__(self,first_name, last_name, age, gender, profession):\n",
    "        super().__init__(first_name, last_name, age, gender, profession)\n",
    "        self.privilidges = Privilidges()\n",
    "    \n"
   ]
  },
  {
   "cell_type": "code",
   "execution_count": 152,
   "metadata": {},
   "outputs": [
    {
     "name": "stdout",
     "output_type": "stream",
     "text": [
      "The privilidges are ['can add post', 'can delete post', 'can ban user']. Got it\n"
     ]
    }
   ],
   "source": [
    "admin_user_2 = Admin(\"Saad\", \"Mahmood\", 43, \"Male\", \"Enginner\")\n",
    "admin_user_2.privilidges.show_privilidges()"
   ]
  },
  {
   "cell_type": "markdown",
   "metadata": {},
   "source": [
    "# Class Inheritence Example 9.9"
   ]
  },
  {
   "cell_type": "code",
   "execution_count": 157,
   "metadata": {},
   "outputs": [],
   "source": [
    "class Battery():\n",
    "    def __init__(self, battery_size = 75):\n",
    "        self.battery_size = battery_size\n",
    "        \n",
    "    def desc_battery(self):\n",
    "        print(f\"It has {self.battery_size} kwh battery. Got it\")\n",
    "    \n",
    "    def battery_range(self):\n",
    "        if self.battery_size == 75:\n",
    "            range = 260\n",
    "        elif self. battery_size == 100:\n",
    "            range = 315\n",
    "        print(f\"The range of this car is {range} mile\")\n",
    "        \n",
    "    def upgrade_battery(self):\n",
    "        if self.battery_size == 100:\n",
    "            pass\n",
    "        else:\n",
    "            self.battery_size = 100"
   ]
  },
  {
   "cell_type": "code",
   "execution_count": 158,
   "metadata": {},
   "outputs": [],
   "source": [
    "class ElectricCar(Cars):\n",
    "    def __init__(self, make , model, engine, color): # This is initilizer for the child class\n",
    "        super().__init__(make , model, engine, color) # This initilizes all the attributes and methods from parent class\n",
    "        self.battery= Battery() # battery attribute is now refering to a Battery Class which is created above\n",
    "        \n"
   ]
  },
  {
   "cell_type": "code",
   "execution_count": 163,
   "metadata": {},
   "outputs": [
    {
     "name": "stdout",
     "output_type": "stream",
     "text": [
      "Tesla model Sx 3.0L Black\n",
      "It has 75 kwh battery. Got it\n",
      "75\n",
      "The range of this car is 260 mile\n",
      "100\n",
      "The range of this car is 315 mile\n"
     ]
    }
   ],
   "source": [
    "my_new_tesla = ElectricCar(\"Tesla\", \"model Sx\", \"3.0L\", \"Black\")\n",
    "my_new_tesla.get_long_name()\n",
    "my_new_tesla.battery.desc_battery()\n",
    "print(my_new_tesla.battery.battery_size)\n",
    "my_new_tesla.battery.battery_range()\n",
    "my_new_tesla.battery.upgrade_battery()\n",
    "print(my_new_tesla.battery.battery_size)\n",
    "my_new_tesla.battery.battery_range()"
   ]
  },
  {
   "cell_type": "markdown",
   "metadata": {},
   "source": [
    "# Importing Module - Example"
   ]
  },
  {
   "cell_type": "code",
   "execution_count": 8,
   "metadata": {},
   "outputs": [
    {
     "name": "stdout",
     "output_type": "stream",
     "text": [
      "2020 Honda Accord\n",
      "This car has 23 miles on it.\n"
     ]
    }
   ],
   "source": [
    "from class_mod import Car\n",
    "\n",
    "my_new_car_1 = Car(\"Honda\", \"Accord\", 2020)\n",
    "print(my_new_car_1.get_descriptive_name())\n",
    "my_new_car_1.odometer_reading = 23\n",
    "my_new_car_1.read_odometer()"
   ]
  },
  {
   "cell_type": "code",
   "execution_count": 1,
   "metadata": {},
   "outputs": [
    {
     "name": "stdout",
     "output_type": "stream",
     "text": [
      "2020 Tesla Model S1\n",
      "This car has a 75-kWh battery.\n",
      "This car can go about 260 miles on a full charge.\n"
     ]
    }
   ],
   "source": [
    "from class_mod import ElectricCars\n",
    "my_tesla_1 = ElectricCars(\"Tesla\", \"model S1\", 2020)\n",
    "print(my_tesla_1.get_descriptive_name())\n",
    "my_tesla_1.battery.describe_battery()\n",
    "my_tesla_1.battery.get_range()"
   ]
  },
  {
   "cell_type": "markdown",
   "metadata": {},
   "source": [
    "# Importing Multiple Classes in one statement"
   ]
  },
  {
   "cell_type": "code",
   "execution_count": 5,
   "metadata": {},
   "outputs": [],
   "source": [
    "from class_mod import Car , ElectricCars # importing multiple Classes from a Module"
   ]
  },
  {
   "cell_type": "markdown",
   "metadata": {},
   "source": [
    "# Importing Whole Module"
   ]
  },
  {
   "cell_type": "code",
   "execution_count": 8,
   "metadata": {},
   "outputs": [],
   "source": [
    "import class_mod # importing whole Module"
   ]
  },
  {
   "cell_type": "markdown",
   "metadata": {},
   "source": [
    "# Accesiing Module and class in one Statement"
   ]
  },
  {
   "cell_type": "code",
   "execution_count": 9,
   "metadata": {},
   "outputs": [
    {
     "name": "stdout",
     "output_type": "stream",
     "text": [
      "2019 Tesla Roadster\n"
     ]
    }
   ],
   "source": [
    "my_tesla_2 = class_mod.ElectricCars(\"Tesla\", \"roadster\", 2019) # First the Module is accessed and then Class is accessed\n",
    "print(my_tesla_2.get_descriptive_name())"
   ]
  },
  {
   "cell_type": "markdown",
   "metadata": {},
   "source": [
    "# Importing All Classes from a module"
   ]
  },
  {
   "cell_type": "code",
   "execution_count": 11,
   "metadata": {},
   "outputs": [],
   "source": [
    "from class_mod import * # This will import all the classes from the Module but its not recommended"
   ]
  },
  {
   "cell_type": "markdown",
   "metadata": {},
   "source": [
    "# Importing class with Alais"
   ]
  },
  {
   "cell_type": "code",
   "execution_count": 3,
   "metadata": {},
   "outputs": [],
   "source": [
    "from class_mod import Battery as bat # bat is the alais name of battery class"
   ]
  },
  {
   "cell_type": "markdown",
   "metadata": {},
   "source": [
    "# Class Module Example 9.10 "
   ]
  },
  {
   "cell_type": "code",
   "execution_count": 7,
   "metadata": {},
   "outputs": [
    {
     "name": "stdout",
     "output_type": "stream",
     "text": [
      "Resturant is \"Rove\" having an \"Spanish\" cusine\n"
     ]
    },
    {
     "data": {
      "text/plain": [
       "100"
      ]
     },
     "execution_count": 7,
     "metadata": {},
     "output_type": "execute_result"
    }
   ],
   "source": [
    "from class_mod import Resturants as RST\n",
    "rest_11 = RST(\"Rove\", \"Spanish\")\n",
    "rest_11.desc_rest()\n",
    "rest_11.set_number_served(100)\n",
    "rest_11.number_served"
   ]
  },
  {
   "cell_type": "markdown",
   "metadata": {},
   "source": [
    "# Class Module Example 9.11"
   ]
  },
  {
   "cell_type": "code",
   "execution_count": 1,
   "metadata": {},
   "outputs": [
    {
     "name": "stdout",
     "output_type": "stream",
     "text": [
      "The privilidges are ('can add post', 'can delete post', 'can ban user-')\n"
     ]
    }
   ],
   "source": [
    "from class_mod import Admin as ADM\n",
    "user_a = ADM(\"Saleha\", \"Saad\", 5, \"Female\", \"Kid\")\n",
    "user_a.show_privilidges()"
   ]
  },
  {
   "cell_type": "markdown",
   "metadata": {},
   "source": []
  }
 ],
 "metadata": {
  "kernelspec": {
   "display_name": "Python 3",
   "language": "python",
   "name": "python3"
  },
  "language_info": {
   "codemirror_mode": {
    "name": "ipython",
    "version": 3
   },
   "file_extension": ".py",
   "mimetype": "text/x-python",
   "name": "python",
   "nbconvert_exporter": "python",
   "pygments_lexer": "ipython3",
   "version": "3.7.6"
  }
 },
 "nbformat": 4,
 "nbformat_minor": 4
}
