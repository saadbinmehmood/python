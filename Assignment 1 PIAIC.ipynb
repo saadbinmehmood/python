{
 "cells": [
  {
   "cell_type": "markdown",
   "metadata": {},
   "source": [
    "# Area of circle"
   ]
  },
  {
   "cell_type": "code",
   "execution_count": 7,
   "metadata": {},
   "outputs": [
    {
     "name": "stdout",
     "output_type": "stream",
     "text": [
      "provide raduis: 5\n",
      "78.53981633974483\n"
     ]
    }
   ],
   "source": [
    "import math\n",
    "phi = math.pi\n",
    "radius = float(input(\"provide raduis: \"))\n",
    "area = phi * (radius)*(radius)\n",
    "print(area)"
   ]
  },
  {
   "cell_type": "markdown",
   "metadata": {},
   "source": [
    "# Number verification"
   ]
  },
  {
   "cell_type": "code",
   "execution_count": 11,
   "metadata": {},
   "outputs": [
    {
     "name": "stdout",
     "output_type": "stream",
     "text": [
      "input any whole number: -16.5\n",
      "negative number entered\n"
     ]
    }
   ],
   "source": [
    "num_1 = float(input(\"input any whole number: \"))\n",
    "if num_1 == 0:\n",
    "    print(\"Zero is entered\")\n",
    "elif num_1 > 0:\n",
    "    print(\"positive number entered\")\n",
    "elif num_1 < 0:\n",
    "    print(\"negative number entered\")"
   ]
  },
  {
   "cell_type": "markdown",
   "metadata": {},
   "source": [
    "# Divisible"
   ]
  },
  {
   "cell_type": "code",
   "execution_count": 5,
   "metadata": {},
   "outputs": [
    {
     "name": "stdout",
     "output_type": "stream",
     "text": [
      "enter numerator: 37\n",
      "enter denominator: 5\n",
      "Number 37 is not completely divisible by 5\n"
     ]
    }
   ],
   "source": [
    "num_2 = int(input(\"enter numerator: \"))\n",
    "num_3 = int(input(\"enter denominator: \"))\n",
    "if num_2 % num_3 == 0:\n",
    "    print(f\"Number {num_2} is completely divisible by {num_3}\")\n",
    "elif num_2 % num_3 != 0:\n",
    "    print(f\"Number {num_2} is not completely divisible by {num_3}\")"
   ]
  },
  {
   "cell_type": "markdown",
   "metadata": {},
   "source": [
    "# Volume of a Sphere"
   ]
  },
  {
   "cell_type": "code",
   "execution_count": 8,
   "metadata": {},
   "outputs": [
    {
     "name": "stdout",
     "output_type": "stream",
     "text": [
      "raduis: 5\n",
      "20.94395102393195\n"
     ]
    }
   ],
   "source": [
    "rad_1 = float(input(\"raduis: \"))\n",
    "vol = (4/3)*phi*(rad_1)\n",
    "print(vol)"
   ]
  },
  {
   "cell_type": "markdown",
   "metadata": {},
   "source": [
    "# String n times"
   ]
  },
  {
   "cell_type": "code",
   "execution_count": 10,
   "metadata": {},
   "outputs": [
    {
     "name": "stdout",
     "output_type": "stream",
     "text": [
      "input string: film\n",
      "How many copies of the string you need: 10\n",
      "10 copies of film are filmfilmfilmfilmfilmfilmfilmfilmfilmfilm\n"
     ]
    }
   ],
   "source": [
    "string_con =\"\"\n",
    "string_1 = input(\"input string: \")\n",
    "rep_1 = int(input(\"How many copies of the string you need: \"))\n",
    "for x in range(rep_1):\n",
    "    string_con = string_con + string_1\n",
    "print(f\"{rep_1} copies of {string_1} are {string_con}\")\n"
   ]
  },
  {
   "cell_type": "code",
   "execution_count": null,
   "metadata": {},
   "outputs": [],
   "source": []
  },
  {
   "cell_type": "code",
   "execution_count": null,
   "metadata": {},
   "outputs": [],
   "source": []
  }
 ],
 "metadata": {
  "kernelspec": {
   "display_name": "Python 3",
   "language": "python",
   "name": "python3"
  },
  "language_info": {
   "codemirror_mode": {
    "name": "ipython",
    "version": 3
   },
   "file_extension": ".py",
   "mimetype": "text/x-python",
   "name": "python",
   "nbconvert_exporter": "python",
   "pygments_lexer": "ipython3",
   "version": "3.7.6"
  }
 },
 "nbformat": 4,
 "nbformat_minor": 4
}
